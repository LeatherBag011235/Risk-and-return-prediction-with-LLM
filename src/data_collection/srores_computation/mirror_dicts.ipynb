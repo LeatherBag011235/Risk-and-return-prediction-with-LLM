{
 "cells": [
  {
   "cell_type": "code",
   "execution_count": 1,
   "metadata": {},
   "outputs": [],
   "source": [
    "import polars as pl\n",
    "import re\n",
    "import numpy as np\n",
    "from mirror_dict_class import MirrorDict\n",
    "from pathlib import Path"
   ]
  },
  {
   "cell_type": "code",
   "execution_count": 2,
   "metadata": {},
   "outputs": [],
   "source": [
    "API_KEY = \"972efd50-c997-4c60-96f6-ffddc29dc0f1\"\n",
    "SAVE_DIR = Path(r\"C:\\Users\\Maxim Shibanov\\Projects_Py\\Risk-and-return-prediction-with-LLM\\src\\data_collection\\srores_computation\\dictionaries\")"
   ]
  },
  {
   "cell_type": "code",
   "execution_count": 3,
   "metadata": {},
   "outputs": [],
   "source": [
    "lm_dict = pl.read_csv(r'C:\\Users\\Maxim Shibanov\\Projects_Py\\Risk-and-return-prediction-with-LLM\\src\\data_collection\\srores_computation\\dictionaries\\Loughran-McDonald_MasterDictionary_1993-2021.csv')\n",
    "hv_dict = pl.read_csv(r'C:\\Users\\Maxim Shibanov\\Projects_Py\\Risk-and-return-prediction-with-LLM\\src\\data_collection\\srores_computation\\dictionaries\\Harvard_inquirerbasic.csv')"
   ]
  },
  {
   "cell_type": "code",
   "execution_count": 4,
   "metadata": {},
   "outputs": [],
   "source": [
    "# Ensure that harvard dictionary entries are compatable with input strings\n",
    "words = hv_dict.select(pl.col('Entry'))\n",
    "hv_words = words.to_series().str.to_lowercase()\n",
    "hv_words = hv_words.map_elements(lambda word: re.sub(r'#\\d+', '', word), return_dtype=pl.Utf8)\n",
    "hv_dict = hv_dict.replace_column(0, hv_words)\n",
    "hv_dict = hv_dict.unique(subset=\"Entry\", keep=\"last\")"
   ]
  },
  {
   "cell_type": "code",
   "execution_count": 5,
   "metadata": {},
   "outputs": [
    {
     "name": "stdout",
     "output_type": "stream",
     "text": [
      "2692\n",
      "3475\n"
     ]
    }
   ],
   "source": [
    "#ENSURE CASE CoMpAtAbIlItY\n",
    "positive_words_lm = lm_dict.filter(lm_dict[\"Positive\"] > 0).to_series().str.to_lowercase()\n",
    "negative_words_lm = lm_dict.filter(lm_dict[\"Negative\"] > 0).to_series().str.to_lowercase()\n",
    "\n",
    "print(len(positive_words_lm) + len(negative_words_lm))\n",
    "\n",
    "positive_words_hv = hv_dict.filter(hv_dict[\"Positiv\"] == 'Positiv').to_series().str.to_lowercase()\n",
    "negative_words_hv = hv_dict.filter(hv_dict[\"Negativ\"] == 'Negativ').to_series().str.to_lowercase()\n",
    "\n",
    "print(len(positive_words_hv) + len(negative_words_hv))"
   ]
  },
  {
   "cell_type": "code",
   "execution_count": 6,
   "metadata": {},
   "outputs": [
    {
     "data": {
      "text/plain": [
       "True"
      ]
     },
     "execution_count": 6,
     "metadata": {},
     "output_type": "execute_result"
    }
   ],
   "source": [
    "#LM dict also contain only unique words\n",
    "len(positive_words_lm) == len(set(positive_words_lm.to_list()))"
   ]
  },
  {
   "cell_type": "code",
   "execution_count": 14,
   "metadata": {},
   "outputs": [],
   "source": [
    "lm_pos_set = set(positive_words_lm.to_list())\n",
    "lm_neg_set = set(negative_words_lm.to_list())\n",
    "hv_pos_set = set(positive_words_hv.to_list())\n",
    "hv_neg_set = set(negative_words_hv.to_list())"
   ]
  },
  {
   "cell_type": "code",
   "execution_count": 9,
   "metadata": {},
   "outputs": [
    {
     "name": "stderr",
     "output_type": "stream",
     "text": [
      "MirrorDict creation: 100%|██████████| 347/347 [00:14<00:00, 23.50word/s]\n"
     ]
    },
    {
     "name": "stdout",
     "output_type": "stream",
     "text": [
      "Processed set. Resulting length: 324\n"
     ]
    },
    {
     "name": "stderr",
     "output_type": "stream",
     "text": [
      "MirrorDict creation: 100%|██████████| 2345/2345 [00:31<00:00, 74.36word/s] "
     ]
    },
    {
     "name": "stdout",
     "output_type": "stream",
     "text": [
      "Processed set. Resulting length: 1839\n"
     ]
    },
    {
     "name": "stderr",
     "output_type": "stream",
     "text": [
      "\n"
     ]
    }
   ],
   "source": [
    "SAVE_DIR = Path(r\"C:\\Users\\Maxim Shibanov\\Projects_Py\\Risk-and-return-prediction-with-LLM\\src\\data_collection\\srores_computation\\dictionaries\\md_lm1.paquet\")\n",
    "md1 = MirrorDict(API_KEY, lm_pos_set, lm_neg_set)\n",
    "df1 = md1.create_mirror_dict(SAVE_DIR)"
   ]
  },
  {
   "cell_type": "code",
   "execution_count": null,
   "metadata": {},
   "outputs": [
    {
     "name": "stderr",
     "output_type": "stream",
     "text": [
      "MirrorDict creation: 100%|██████████| 347/347 [00:09<00:00, 36.62word/s] \n"
     ]
    },
    {
     "name": "stdout",
     "output_type": "stream",
     "text": [
      "Processed set. Resulting length: 324\n"
     ]
    },
    {
     "name": "stderr",
     "output_type": "stream",
     "text": [
      "MirrorDict creation: 100%|██████████| 2345/2345 [00:34<00:00, 67.92word/s] "
     ]
    },
    {
     "name": "stdout",
     "output_type": "stream",
     "text": [
      "Processed set. Resulting length: 1862\n"
     ]
    },
    {
     "name": "stderr",
     "output_type": "stream",
     "text": [
      "\n"
     ]
    }
   ],
   "source": [
    "SAVE_DIR = Path(r\"C:\\Users\\Maxim Shibanov\\Projects_Py\\Risk-and-return-prediction-with-LLM\\src\\data_collection\\srores_computation\\dictionaries\\md_lm2.paquet\")\n",
    "df2 = md1.create_mirror_dict(SAVE_DIR)"
   ]
  },
  {
   "cell_type": "code",
   "execution_count": null,
   "metadata": {},
   "outputs": [
    {
     "name": "stderr",
     "output_type": "stream",
     "text": [
      "MirrorDict creation: 100%|██████████| 347/347 [00:07<00:00, 46.59word/s] \n"
     ]
    },
    {
     "name": "stdout",
     "output_type": "stream",
     "text": [
      "Processed set. Resulting length: 320\n"
     ]
    },
    {
     "name": "stderr",
     "output_type": "stream",
     "text": [
      "MirrorDict creation: 100%|██████████| 2345/2345 [00:32<00:00, 72.61word/s] "
     ]
    },
    {
     "name": "stdout",
     "output_type": "stream",
     "text": [
      "Processed set. Resulting length: 1842\n"
     ]
    },
    {
     "name": "stderr",
     "output_type": "stream",
     "text": [
      "\n"
     ]
    }
   ],
   "source": [
    "SAVE_DIR = Path(r\"C:\\Users\\Maxim Shibanov\\Projects_Py\\Risk-and-return-prediction-with-LLM\\src\\data_collection\\srores_computation\\dictionaries\\md_lm3.paquet\")\n",
    "df3 = md1.create_mirror_dict(SAVE_DIR)"
   ]
  },
  {
   "cell_type": "code",
   "execution_count": 21,
   "metadata": {},
   "outputs": [
    {
     "name": "stderr",
     "output_type": "stream",
     "text": [
      "MirrorDict creation:  58%|█████▊    | 897/1553 [00:10<00:06, 105.98word/s]"
     ]
    },
    {
     "name": "stdout",
     "output_type": "stream",
     "text": [
      "Request failed: Expecting value: line 1 column 1 (char 0)\n"
     ]
    },
    {
     "name": "stderr",
     "output_type": "stream",
     "text": [
      "MirrorDict creation: 100%|██████████| 1553/1553 [00:22<00:00, 68.58word/s] \n"
     ]
    },
    {
     "name": "stdout",
     "output_type": "stream",
     "text": [
      "Processed set. Resulting length: 1271\n"
     ]
    },
    {
     "name": "stderr",
     "output_type": "stream",
     "text": [
      "MirrorDict creation:  16%|█▋        | 315/1922 [00:06<00:23, 68.30word/s]"
     ]
    },
    {
     "name": "stdout",
     "output_type": "stream",
     "text": [
      "Request failed: Expecting value: line 1 column 1 (char 0)\n"
     ]
    },
    {
     "name": "stderr",
     "output_type": "stream",
     "text": [
      "MirrorDict creation:  51%|█████     | 973/1922 [00:15<00:08, 111.66word/s]"
     ]
    },
    {
     "name": "stdout",
     "output_type": "stream",
     "text": [
      "Request failed: Expecting value: line 1 column 1 (char 0)\n"
     ]
    },
    {
     "name": "stderr",
     "output_type": "stream",
     "text": [
      "MirrorDict creation: 100%|██████████| 1922/1922 [00:31<00:00, 60.74word/s] "
     ]
    },
    {
     "name": "stdout",
     "output_type": "stream",
     "text": [
      "Processed set. Resulting length: 1606\n"
     ]
    },
    {
     "name": "stderr",
     "output_type": "stream",
     "text": [
      "\n"
     ]
    }
   ],
   "source": [
    "SAVE_DIR = Path(r\"C:\\Users\\Maxim Shibanov\\Projects_Py\\Risk-and-return-prediction-with-LLM\\src\\data_collection\\srores_computation\\dictionaries\\md_hv1.paquet\")\n",
    "md2 = MirrorDict(API_KEY, hv_pos_set, hv_neg_set)\n",
    "df4 = md2.create_mirror_dict(SAVE_DIR)"
   ]
  },
  {
   "cell_type": "code",
   "execution_count": 22,
   "metadata": {},
   "outputs": [
    {
     "name": "stderr",
     "output_type": "stream",
     "text": [
      "MirrorDict creation:  58%|█████▊    | 897/1553 [00:10<00:06, 93.83word/s] "
     ]
    },
    {
     "name": "stdout",
     "output_type": "stream",
     "text": [
      "Request failed: Expecting value: line 1 column 1 (char 0)\n"
     ]
    },
    {
     "name": "stderr",
     "output_type": "stream",
     "text": [
      "MirrorDict creation: 100%|██████████| 1553/1553 [00:21<00:00, 70.79word/s] \n"
     ]
    },
    {
     "name": "stdout",
     "output_type": "stream",
     "text": [
      "Processed set. Resulting length: 1267\n"
     ]
    },
    {
     "name": "stderr",
     "output_type": "stream",
     "text": [
      "MirrorDict creation:  16%|█▌        | 312/1922 [00:04<00:21, 73.66word/s]"
     ]
    },
    {
     "name": "stdout",
     "output_type": "stream",
     "text": [
      "Request failed: Expecting value: line 1 column 1 (char 0)\n"
     ]
    },
    {
     "name": "stderr",
     "output_type": "stream",
     "text": [
      "MirrorDict creation:  50%|█████     | 962/1922 [00:12<00:17, 53.42word/s] "
     ]
    },
    {
     "name": "stdout",
     "output_type": "stream",
     "text": [
      "Request failed: Expecting value: line 1 column 1 (char 0)\n"
     ]
    },
    {
     "name": "stderr",
     "output_type": "stream",
     "text": [
      "MirrorDict creation: 100%|██████████| 1922/1922 [00:25<00:00, 75.16word/s] "
     ]
    },
    {
     "name": "stdout",
     "output_type": "stream",
     "text": [
      "Processed set. Resulting length: 1612\n"
     ]
    },
    {
     "name": "stderr",
     "output_type": "stream",
     "text": [
      "\n"
     ]
    }
   ],
   "source": [
    "SAVE_DIR = Path(r\"C:\\Users\\Maxim Shibanov\\Projects_Py\\Risk-and-return-prediction-with-LLM\\src\\data_collection\\srores_computation\\dictionaries\\md_hv2.paquet\")\n",
    "df5 = md2.create_mirror_dict(SAVE_DIR)"
   ]
  },
  {
   "cell_type": "code",
   "execution_count": 26,
   "metadata": {},
   "outputs": [
    {
     "data": {
      "text/plain": [
       "(shape: (2_877, 2)\n",
       " ┌───────────┬──────────┐\n",
       " │ word      ┆ positive │\n",
       " │ ---       ┆ ---      │\n",
       " │ str       ┆ bool     │\n",
       " ╞═══════════╪══════════╡\n",
       " │ out-front ┆ true     │\n",
       " │ witting   ┆ true     │\n",
       " │ soft      ┆ true     │\n",
       " │ skilled   ┆ true     │\n",
       " │ feather   ┆ true     │\n",
       " │ …         ┆ …        │\n",
       " │ kinky     ┆ false    │\n",
       " │ tomb      ┆ false    │\n",
       " │ obscene   ┆ false    │\n",
       " │ bash      ┆ false    │\n",
       " │ abstract  ┆ false    │\n",
       " └───────────┴──────────┘,\n",
       " shape: (2_879, 2)\n",
       " ┌─────────────┬──────────┐\n",
       " │ word        ┆ positive │\n",
       " │ ---         ┆ ---      │\n",
       " │ str         ┆ bool     │\n",
       " ╞═════════════╪══════════╡\n",
       " │ witting     ┆ true     │\n",
       " │ heaven-sent ┆ true     │\n",
       " │ soft        ┆ true     │\n",
       " │ feather     ┆ true     │\n",
       " │ aegis       ┆ true     │\n",
       " │ …           ┆ …        │\n",
       " │ emptiness   ┆ false    │\n",
       " │ deteriorate ┆ false    │\n",
       " │ bash        ┆ false    │\n",
       " │ chilling    ┆ false    │\n",
       " │ abstract    ┆ false    │\n",
       " └─────────────┴──────────┘,\n",
       " shape: (2_864, 2)\n",
       " ┌─────────────┬──────────┐\n",
       " │ word        ┆ positive │\n",
       " │ ---         ┆ ---      │\n",
       " │ str         ┆ bool     │\n",
       " ╞═════════════╪══════════╡\n",
       " │ gambol      ┆ true     │\n",
       " │ soft        ┆ true     │\n",
       " │ hacker      ┆ true     │\n",
       " │ aegis       ┆ true     │\n",
       " │ exercise    ┆ true     │\n",
       " │ …           ┆ …        │\n",
       " │ assorted    ┆ false    │\n",
       " │ emptiness   ┆ false    │\n",
       " │ deteriorate ┆ false    │\n",
       " │ bash        ┆ false    │\n",
       " │ chill       ┆ false    │\n",
       " └─────────────┴──────────┘)"
      ]
     },
     "execution_count": 26,
     "metadata": {},
     "output_type": "execute_result"
    }
   ],
   "source": [
    "df4, df5, df6"
   ]
  },
  {
   "cell_type": "code",
   "execution_count": 23,
   "metadata": {},
   "outputs": [
    {
     "name": "stderr",
     "output_type": "stream",
     "text": [
      "MirrorDict creation:  58%|█████▊    | 902/1553 [00:13<00:05, 117.59word/s]"
     ]
    },
    {
     "name": "stdout",
     "output_type": "stream",
     "text": [
      "Request failed: Expecting value: line 1 column 1 (char 0)\n"
     ]
    },
    {
     "name": "stderr",
     "output_type": "stream",
     "text": [
      "MirrorDict creation: 100%|██████████| 1553/1553 [00:24<00:00, 64.12word/s] \n"
     ]
    },
    {
     "name": "stdout",
     "output_type": "stream",
     "text": [
      "Processed set. Resulting length: 1268\n"
     ]
    },
    {
     "name": "stderr",
     "output_type": "stream",
     "text": [
      "MirrorDict creation:  16%|█▌        | 304/1922 [00:04<00:33, 48.31word/s]"
     ]
    },
    {
     "name": "stdout",
     "output_type": "stream",
     "text": [
      "Request failed: Expecting value: line 1 column 1 (char 0)\n"
     ]
    },
    {
     "name": "stderr",
     "output_type": "stream",
     "text": [
      "MirrorDict creation:  51%|█████     | 978/1922 [00:11<00:14, 66.85word/s] "
     ]
    },
    {
     "name": "stdout",
     "output_type": "stream",
     "text": [
      "Request failed: Expecting value: line 1 column 1 (char 0)\n"
     ]
    },
    {
     "name": "stderr",
     "output_type": "stream",
     "text": [
      "MirrorDict creation: 100%|██████████| 1922/1922 [00:28<00:00, 68.05word/s] "
     ]
    },
    {
     "name": "stdout",
     "output_type": "stream",
     "text": [
      "Processed set. Resulting length: 1596\n"
     ]
    },
    {
     "name": "stderr",
     "output_type": "stream",
     "text": [
      "\n"
     ]
    }
   ],
   "source": [
    "SAVE_DIR = Path(r\"C:\\Users\\Maxim Shibanov\\Projects_Py\\Risk-and-return-prediction-with-LLM\\src\\data_collection\\srores_computation\\dictionaries\\md_hv3.paquet\")\n",
    "df6 = md2.create_mirror_dict(SAVE_DIR)"
   ]
  }
 ],
 "metadata": {
  "kernelspec": {
   "display_name": "rnrpred_with_llm",
   "language": "python",
   "name": "python3"
  },
  "language_info": {
   "codemirror_mode": {
    "name": "ipython",
    "version": 3
   },
   "file_extension": ".py",
   "mimetype": "text/x-python",
   "name": "python",
   "nbconvert_exporter": "python",
   "pygments_lexer": "ipython3",
   "version": "3.12.3"
  }
 },
 "nbformat": 4,
 "nbformat_minor": 2
}
