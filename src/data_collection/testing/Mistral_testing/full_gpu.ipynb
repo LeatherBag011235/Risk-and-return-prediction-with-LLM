{
 "cells": [
  {
   "cell_type": "code",
   "execution_count": null,
   "metadata": {},
   "outputs": [],
   "source": [
    "from transformers import AutoModelForCausalLM, AutoTokenizer, BitsAndBytesConfig\n",
    "import torch\n",
    "import numpy as np\n",
    "import re\n",
    "import psycopg2\n",
    "import random\n",
    "import gc  # Garbage collector"
   ]
  },
  {
   "cell_type": "code",
   "execution_count": 2,
   "metadata": {},
   "outputs": [
    {
     "data": {
      "application/vnd.jupyter.widget-view+json": {
       "model_id": "3607d3f4cb604827a9d246bb827cff57",
       "version_major": 2,
       "version_minor": 0
      },
      "text/plain": [
       "Loading checkpoint shards:   0%|          | 0/2 [00:00<?, ?it/s]"
      ]
     },
     "metadata": {},
     "output_type": "display_data"
    }
   ],
   "source": [
    "model_name = \"mistralai/Mistral-7B-Instruct-v0.1\"\n",
    "\n",
    "# Load model in 8-bit quantization (for RTX 4080 Super)\n",
    "quant_config = BitsAndBytesConfig(load_in_8bit=True)\n",
    "\n",
    "# Load model fully into GPU\n",
    "model = AutoModelForCausalLM.from_pretrained(\n",
    "    model_name,\n",
    "    quantization_config=quant_config,\n",
    "    device_map=\"auto\"\n",
    ")\n",
    "\n",
    "tokenizer = AutoTokenizer.from_pretrained(model_name)"
   ]
  },
  {
   "cell_type": "code",
   "execution_count": 3,
   "metadata": {},
   "outputs": [],
   "source": [
    "# Precompute token validity mask (only run once)\n",
    "vocab_size = len(tokenizer.get_vocab())\n",
    "all_tokens = torch.arange(vocab_size, device=\"cuda\")  # Tensor of token IDs\n",
    "decoded_tokens = tokenizer.batch_decode(all_tokens.unsqueeze(1))  # Vectorized decoding\n",
    "\n",
    "# Create boolean mask **directly as a tensor** (avoids Python list overhead)\n",
    "valid_mask = torch.tensor(\n",
    "    [token.isalpha() and len(token) > 1 for token in decoded_tokens], dtype=torch.bool, device=\"cuda\"\n",
    ").clone()  # `clone()` avoids PyTorch memory issues\n",
    "\n",
    "# Save valid token IDs & decoded token texts\n",
    "allowed_tokens = torch.masked_select(all_tokens, valid_mask)  # Fast retrieval during inference\n",
    "allowed_token_texts = tokenizer.batch_decode(allowed_tokens.tolist())  # Decode only once\n",
    "\n",
    "# Preallocate masked logits tensor for reuse\n",
    "masked_logits = torch.empty(vocab_size, dtype=torch.float16, device=\"cuda\")"
   ]
  },
  {
   "cell_type": "code",
   "execution_count": 4,
   "metadata": {},
   "outputs": [],
   "source": [
    "def clean_report(report: str) -> str:\n",
    "    \"\"\"\n",
    "    Cleans the financial report by:\n",
    "    - Removing excessive newlines & spaces\n",
    "    - Preserving table formatting\n",
    "    - Keeping important financial symbols ($, %, /)\n",
    "    \"\"\"\n",
    "    # Preserve tables: Keep lines containing \"|\"\n",
    "    lines = report.split(\"\\n\")\n",
    "    cleaned_lines = []\n",
    "    \n",
    "    for line in lines:\n",
    "        # Remove excessive spaces but preserve single spaces\n",
    "        cleaned_line = re.sub(r\"\\s+\", \" \", line).strip()\n",
    "        \n",
    "        # Ensure table rows are kept intact\n",
    "        if \"|\" in line:\n",
    "            cleaned_lines.append(line)  # Keep as is\n",
    "        elif cleaned_line:  # Only add meaningful lines\n",
    "            cleaned_lines.append(cleaned_line)\n",
    "\n",
    "    return \"\\n\".join(cleaned_lines)  # Reconstruct cleaned report\n"
   ]
  },
  {
   "cell_type": "code",
   "execution_count": null,
   "metadata": {},
   "outputs": [],
   "source": [
    "def split_and_tokenize_report(report: str, tokenizer, max_tokens=3800, overlap_ratio=0.2):\n",
    "    \"\"\"\n",
    "    Splits a report into 3,800-token segments with 20% overlap and tokenizes them.\n",
    "    \n",
    "    Ensures tokenized outputs remain in DRAM (CPU memory) until inference.\n",
    "    \n",
    "    Returns:\n",
    "    - A dictionary with segment indices as keys and **CPU-based** tokenized tensors as values.\n",
    "    \"\"\"\n",
    "    inference_prompt = \" Based on this financial report my investment advice is to\"\n",
    "    cleaned_report = clean_report(report)\n",
    "\n",
    "    # Tokenize full report & inference prompt (ensure tensors are on CPU)\n",
    "    tokens = tokenizer(cleaned_report, return_tensors=\"pt\")[\"input_ids\"].squeeze().to(\"cpu\")\n",
    "    prompt_tokens = tokenizer(inference_prompt, return_tensors=\"pt\")[\"input_ids\"].squeeze().to(\"cpu\")\n",
    "\n",
    "    # Define overlap\n",
    "    overlap_tokens = int(max_tokens * overlap_ratio)\n",
    "    \n",
    "    # Initialize segments (keep them in CPU)\n",
    "    token_segments = {}\n",
    "    start = 0\n",
    "    segment_index = 1\n",
    "\n",
    "    while start < len(tokens):\n",
    "        end = min(start + max_tokens, len(tokens))\n",
    "        \n",
    "        # Extract segment + prompt\n",
    "        segment_tokens = torch.cat((tokens[start:end], prompt_tokens), dim=0).to(\"cpu\")  # Ensure CPU storage\n",
    "        \n",
    "        token_segments[f\"Segment_{segment_index}\"] = segment_tokens\n",
    "\n",
    "        # Move to next segment with overlap\n",
    "        start += max_tokens - overlap_tokens\n",
    "        segment_index += 1\n",
    "\n",
    "    return token_segments"
   ]
  },
  {
   "cell_type": "code",
   "execution_count": null,
   "metadata": {},
   "outputs": [],
   "source": [
    "def fast_inference(tokens):\n",
    "    \"\"\"\n",
    "    Performs fast inference while ensuring efficient VRAM usage.\n",
    "    \"\"\"\n",
    "    try:\n",
    "        # Move input to CUDA before inference\n",
    "        inputs = {\"input_ids\": tokens.unsqueeze(0).to(\"cuda\")}  # Add batch dimension\n",
    "\n",
    "        # Get logits\n",
    "        with torch.no_grad():\n",
    "            outputs = model(**inputs)\n",
    "\n",
    "        # Extract logits for next token\n",
    "        logits = outputs.logits[:, -1, :].squeeze()\n",
    "\n",
    "        # Reset and mask logits\n",
    "        masked_logits.fill_(-float(\"inf\"))  \n",
    "        masked_logits[valid_mask] = logits[valid_mask]  \n",
    "\n",
    "        # Compute probabilities\n",
    "        probs = torch.nn.functional.softmax(masked_logits, dim=-1)\n",
    "\n",
    "        # Get corresponding probabilities for allowed tokens\n",
    "        allowed_probs = torch.masked_select(probs, valid_mask)\n",
    "\n",
    "        # Convert results to dictionary\n",
    "        token_prob_dict = dict(zip(allowed_token_texts, allowed_probs.tolist()))\n",
    "\n",
    "        return token_prob_dict\n",
    "\n",
    "    finally:\n",
    "        # Force memory cleanup\n",
    "        del tokens, inputs, outputs, logits, probs, allowed_probs\n",
    "        torch.cuda.empty_cache()  \n",
    "        torch.cuda.ipc_collect()  # Helps free more GPU memory\n",
    "        gc.collect()  # Garbage collect CPU memory\n",
    "\n"
   ]
  },
  {
   "cell_type": "code",
   "execution_count": 7,
   "metadata": {},
   "outputs": [],
   "source": [
    "good_report = \"\"\"\n",
    "NexaTech Inc. - Q1 2024 Financial Report\n",
    "For the period ended March 31, 2024\n",
    "\n",
    "NexaTech Inc. is pleased to report strong financial results for the first quarter of 2024, driven by robust revenue growth, margin expansion, and continued execution of strategic initiatives.\n",
    "\n",
    "Financial Performance\n",
    "For the quarter ended March 31, 2024, total revenue increased 18.4% year-over-year to $1.74 billion, reflecting higher demand across core product segments and continued market penetration in key geographies. Gross profit expanded 22.7% to $764 million, driven by pricing optimization and supply chain efficiencies. Gross margin improved to 43.9%, compared to 41.6% in the prior year.\n",
    "\n",
    "Operating income increased 27.2% to $498 million, representing an operating margin of 28.6%, up from 26.3% in Q1 2023. Net income attributable to shareholders was $382 million, a 30.1% increase over the prior-year period, translating to diluted earnings per share (EPS) of $2.74, compared to $2.08 in Q1 2023.\n",
    "\n",
    "Strategic and Operational Highlights\n",
    "During the quarter, NexaTech successfully launched its AI-driven enterprise cloud platform, achieving widespread adoption among Fortune 500 clients. The company also expanded its international presence, securing strategic partnerships in Europe and Asia-Pacific, further diversifying its revenue streams.\n",
    "\n",
    "Capital expenditures for Q1 totaled $112 million, reflecting continued investment in AI and cloud infrastructure. The company maintained a strong balance sheet, with $2.1 billion in cash and short-term investments and a net debt-to-equity ratio of 0.24, ensuring ample liquidity to fund future growth.\n",
    "\n",
    "Outlook\n",
    "Given the strong performance in Q1 and continued market momentum, NexaTech is raising full-year 2024 guidance, expecting revenue growth of 15%–18%, with an EPS range of $10.50–$11.20, up from previous guidance of $9.80–$10.50.\n",
    "\n",
    "The company remains committed to operational efficiency, technological innovation, and shareholder value creation, positioning itself for sustained growth in a dynamic market environment.\n",
    "\"\"\""
   ]
  },
  {
   "cell_type": "code",
   "execution_count": 8,
   "metadata": {},
   "outputs": [],
   "source": [
    "bad_report = \"\"\"\n",
    "CoreSteel Industries - Q1 2024 Financial Report\n",
    "For the period ended March 31, 2024\n",
    "\n",
    "CoreSteel Industries reports a challenging first quarter, as macroeconomic headwinds, supply chain disruptions, and weaker-than-expected demand weighed on financial results. The company remains focused on cost management and operational efficiency while navigating ongoing market volatility.\n",
    "\n",
    "Financial Performance\n",
    "For the quarter ended March 31, 2024, revenue declined 8.7% year-over-year to $640 million, primarily due to reduced order volumes and pricing pressures in the steel manufacturing segment. Gross profit decreased 11.2% to $172 million, with gross margin contracting to 26.9%, down from 29.3% in Q1 2023, reflecting higher raw material costs.\n",
    "\n",
    "Operating income declined 22.8% to $74 million, with operating margin falling to 11.6%, compared to 14.2% in the prior-year period. Net income attributable to shareholders was $41 million, representing a 29.4% year-over-year decrease, leading to diluted earnings per share (EPS) of $0.88, compared to $1.23 in Q1 2023.\n",
    "\n",
    "Operational Challenges and Cost Management\n",
    "CoreSteel experienced weaker demand in North America and Europe, where key customers delayed capital investments amid economic uncertainty. Additionally, higher energy and labor costs pressured margins. The company initiated a cost-reduction program targeting $50 million in annualized savings, including workforce optimization and supply chain restructuring.\n",
    "\n",
    "Capital expenditures in Q1 were $52 million, primarily allocated to equipment upgrades and digitalization initiatives. CoreSteel ended the quarter with $284 million in cash and equivalents, maintaining financial flexibility, although net debt increased to $1.18 billion, raising leverage concerns.\n",
    "\n",
    "Outlook\n",
    "Given the uncertain economic environment, CoreSteel adjusts its full-year 2024 guidance, now anticipating revenue contraction of 4%–6%, with EPS expected between $3.00–$3.40, down from prior estimates of $3.80–$4.20. The company remains focused on cost containment, operational efficiency, and supply chain resilience while assessing opportunities for strategic realignment.\n",
    "\n",
    "While near-term headwinds persist, CoreSteel continues to leverage its strong industry position and long-term customer relationships to drive stability and recovery.\n",
    "\"\"\"\n"
   ]
  },
  {
   "cell_type": "code",
   "execution_count": 9,
   "metadata": {},
   "outputs": [],
   "source": [
    "# Good text abd bad financials \n",
    "report_1 = \"\"\"\n",
    "BrightFuture Corp. - Q1 2024 Financial Report\n",
    "For the period ended March 31, 2024\n",
    "\n",
    "BrightFuture Corp. continues to demonstrate its unwavering commitment to innovation, customer success, and long-term value creation. Despite industry-wide challenges, we remain focused on strategic investments, operational excellence, and positioning ourselves for sustained growth.\n",
    "\n",
    "Financial Performance\n",
    "The first quarter of 2024 was a period of strategic transformation. While revenue came in at $520 million, a temporary 9.4% decline year-over-year, we are confident in our ability to reverse this trend in the coming quarters. Gross profit stood at $110 million, reflecting a 17.2% decrease, primarily due to short-term supply chain pressures. However, our proactive cost management initiatives are expected to drive significant improvements moving forward.\n",
    "\n",
    "| **Metric**            | **Q1 2024** | **Q1 2023** | **YoY Change** |\n",
    "|----------------------|------------|------------|--------------|\n",
    "| Revenue             | $520M      | $574M      | **-9.4%**    |\n",
    "| Gross Profit        | $110M      | $133M      | **-17.2%**   |\n",
    "| Operating Income    | $45M       | $82M       | **-45.1%**   |\n",
    "| Net Income         | $22M       | $57M       | **-61.4%**   |\n",
    "| Diluted EPS        | $0.34      | $1.02      | **-66.7%**   |\n",
    "\n",
    "Strategic Developments\n",
    "Despite near-term financial headwinds, we successfully launched **three new product lines**, securing partnerships with leading industry players. Additionally, our investments in AI-driven analytics have positioned us at the forefront of the digital transformation wave.\n",
    "\n",
    "Outlook\n",
    "BrightFuture Corp. remains steadfast in delivering long-term shareholder value. With an aggressive product expansion strategy and a focus on operational efficiencies, we expect to **return to double-digit growth** in the second half of 2024.\n",
    "\"\"\"\n"
   ]
  },
  {
   "cell_type": "code",
   "execution_count": 10,
   "metadata": {},
   "outputs": [],
   "source": [
    "# Negative text and good financials \n",
    "report_2 = \"\"\"\n",
    "Titan Metals - Q1 2024 Financial Report\n",
    "For the period ended March 31, 2024\n",
    "\n",
    "Titan Metals faced significant macroeconomic pressures in Q1 2024, with industry volatility, rising operational costs, and an increasingly uncertain global demand landscape. Persistent inflation and labor market challenges have created a tough operating environment.\n",
    "\n",
    "Financial Performance\n",
    "Despite these headwinds, revenue surged to $1.82 billion, representing a **19.3% increase year-over-year**, supported by strong demand across industrial markets. Gross profit increased **28.7%** to $798 million, benefiting from improved pricing strategies and supply chain optimization.\n",
    "\n",
    "| **Metric**            | **Q1 2024** | **Q1 2023** | **YoY Change** |\n",
    "|----------------------|------------|------------|--------------|\n",
    "| Revenue             | $1.82B     | $1.53B     | **+19.3%**   |\n",
    "| Gross Profit        | $798M      | $620M      | **+28.7%**   |\n",
    "| Operating Income    | $425M      | $354M      | **+20.1%**   |\n",
    "| Net Income         | $320M      | $245M      | **+30.6%**   |\n",
    "| Diluted EPS        | $2.96      | $2.14      | **+38.3%**   |\n",
    "\n",
    "Operational Challenges\n",
    "Despite strong financial performance, Titan Metals is facing **significant regulatory and compliance hurdles** in key global markets. Rising input costs and geopolitical risks continue to create uncertainty regarding future profitability. Additionally, competition from emerging players threatens long-term market positioning.\n",
    "\n",
    "Outlook\n",
    "Although our financials remain solid, the ongoing market volatility and cost inflation present a **serious risk to sustainable growth**. Without major industry-wide improvements, maintaining current profitability levels will be increasingly difficult in future quarters.\n",
    "\"\"\"\n"
   ]
  },
  {
   "cell_type": "code",
   "execution_count": 11,
   "metadata": {},
   "outputs": [],
   "source": [
    "# Strong text and strong financials\n",
    "report_3 = \"\"\"\n",
    "Vertex Technologies - Q1 2024 Financial Report\n",
    "For the period ended March 31, 2024\n",
    "\n",
    "Vertex Technologies continues its trajectory of exceptional growth and innovation. Q1 2024 was marked by record-breaking financial performance, market expansion, and significant technological advancements, reinforcing our position as an industry leader.\n",
    "\n",
    "Financial Performance\n",
    "Revenue increased **22.8% year-over-year**, reaching **$2.45 billion**, driven by strong demand across all business segments. Gross profit expanded **30.1%** to **$1.12 billion**, with gross margins improving to **45.7%**.\n",
    "\n",
    "| **Metric**            | **Q1 2024** | **Q1 2023** | **YoY Change** |\n",
    "|----------------------|------------|------------|--------------|\n",
    "| Revenue             | $2.45B     | $1.99B     | **+22.8%**   |\n",
    "| Gross Profit        | $1.12B     | $862M      | **+30.1%**   |\n",
    "| Operating Income    | $580M      | $432M      | **+34.3%**   |\n",
    "| Net Income         | $450M      | $340M      | **+32.4%**   |\n",
    "| Diluted EPS        | $4.18      | $3.14      | **+33.1%**   |\n",
    "\n",
    "Strategic Developments\n",
    "During the quarter, we successfully launched our **next-generation AI platform**, further enhancing our competitive advantage. Expansion into **Europe and Latin America** has unlocked significant revenue potential, reinforcing our commitment to global growth.\n",
    "\n",
    "Outlook\n",
    "With continued momentum, we are **raising our full-year 2024 guidance**, anticipating **20-25% revenue growth** and **expanding margins**. Our unwavering focus on innovation and market leadership positions us for sustained success.\n",
    "\"\"\"\n"
   ]
  },
  {
   "cell_type": "code",
   "execution_count": 12,
   "metadata": {},
   "outputs": [],
   "source": [
    "# Poor text and poor financials\n",
    "report_4 = \"\"\"\n",
    "Delta Industrial Solutions - Q1 2024 Financial Report\n",
    "For the period ended March 31, 2024\n",
    "\n",
    "Delta Industrial Solutions faced a particularly difficult first quarter, as ongoing supply chain disruptions, declining order volumes, and cost pressures weighed heavily on performance. The company continues to navigate **serious operational inefficiencies** that have significantly impacted margins.\n",
    "\n",
    "Financial Performance\n",
    "Revenue declined **11.6%** year-over-year to **$415 million**, with gross profit falling **19.2%** due to rising material costs and lower-than-expected sales.\n",
    "\n",
    "| **Metric**            | **Q1 2024** | **Q1 2023** | **YoY Change** |\n",
    "|----------------------|------------|------------|--------------|\n",
    "| Revenue             | $415M      | $470M      | **-11.6%**   |\n",
    "| Gross Profit        | $94M       | $116M      | **-19.2%**   |\n",
    "| Operating Income    | $30M       | $65M       | **-53.8%**   |\n",
    "| Net Income         | $14M       | $42M       | **-66.7%**   |\n",
    "| Diluted EPS        | $0.28      | $0.94      | **-70.2%**   |\n",
    "\n",
    "Operational Challenges\n",
    "Persistent **inventory shortages**, **higher freight costs**, and **weakened customer demand** have led to **substantial revenue losses**. Cost-saving initiatives have been implemented, but the near-term outlook remains **highly uncertain**.\n",
    "\n",
    "Outlook\n",
    "Given the sustained decline in key financial metrics, Delta Industrial Solutions **anticipates further contraction** in Q2 2024. The company is currently evaluating **strategic restructuring options** to improve long-term viability.\n",
    "\"\"\"\n"
   ]
  },
  {
   "cell_type": "code",
   "execution_count": 13,
   "metadata": {},
   "outputs": [
    {
     "name": "stdout",
     "output_type": "stream",
     "text": [
      "Fetched report:\n",
      " Table of ContentsUNITED STATESSECURITIES AND EXCHANGE COMMISSIONWashington, D.C. 20549Form 10-Q(Mark One)QUARTERLY REPORT PURSUANT TO SECTION 13 OR 15(d) OF THE SECURITIES EXCHANGE ACT OF 1934For the quarterly period ended June 30, 2020 ORTRANSITION REPORT PURSUANT TO SECTION 13 OR 15(d) OF THE SECURITIES EXCHANGE ACT OF 1934For the transition period from              to             Commission File Number: 001-33784SANDRIDGE ENERGY, INC.(Exact name of registrant as specified in its charter)Delaw\n"
     ]
    }
   ],
   "source": [
    "def get_random_report():\n",
    "    \"\"\"\n",
    "    Fetches a random financial report from the database.\n",
    "    \"\"\"\n",
    "    # Connect to the PostgreSQL database\n",
    "    conn = psycopg2.connect(\n",
    "        dbname=\"reports_db\",\n",
    "        user=\"postgres\",     # Change to your actual username\n",
    "        password=\"postgres\", # Change to your actual password\n",
    "        host=\"localhost\",         # Change if needed\n",
    "        port=\"5432\"               # Default PostgreSQL port\n",
    "    )\n",
    "    \n",
    "    try:\n",
    "        with conn.cursor() as cur:\n",
    "            # Count total reports\n",
    "            cur.execute(\"SELECT COUNT(*) FROM reports;\")\n",
    "            total_reports = cur.fetchone()[0]\n",
    "            \n",
    "            if total_reports == 0:\n",
    "                print(\"No reports available in the database.\")\n",
    "                return None\n",
    "            \n",
    "            # Select a random offset\n",
    "            random_offset = random.randint(0, total_reports - 1)\n",
    "            \n",
    "            # Fetch a random report\n",
    "            cur.execute(\"\"\"\n",
    "                SELECT raw_text FROM reports \n",
    "                OFFSET %s LIMIT 1;\n",
    "            \"\"\", (random_offset,))\n",
    "            \n",
    "            report = cur.fetchone()[0]\n",
    "            return report  # Return the raw financial report text\n",
    "            \n",
    "    finally:\n",
    "        conn.close()\n",
    "\n",
    "random_report = get_random_report()\n",
    "if random_report:\n",
    "    print(\"Fetched report:\\n\", random_report[:500])  # Print the first 500 characters"
   ]
  },
  {
   "cell_type": "code",
   "execution_count": 14,
   "metadata": {},
   "outputs": [],
   "source": [
    "def create_verbolizer(positive_words: list, negative_words: list) -> dict:\n",
    "    positive_words = list(map(str.lower, positive_words))\n",
    "    negative_words = list(map(str.lower, negative_words))\n",
    "                          \n",
    "    verbolizer = {\n",
    "        \"positive\" : [word.capitalize() for word in positive_words] + positive_words,\n",
    "        \"negative\" : [word.capitalize() for word in negative_words] + negative_words,\n",
    "    }\n",
    "\n",
    "    return verbolizer"
   ]
  },
  {
   "cell_type": "code",
   "execution_count": 15,
   "metadata": {},
   "outputs": [],
   "source": [
    "verbolizer = create_verbolizer(\n",
    "        positive_words=[\n",
    "            \"buy\", \"invest\", \"purchase\", \"Invest\", \"buying\", \"stay\",\n",
    "            \"proceed\", \"recommend\", \"Hold\", \"retain\", \"increase\",\n",
    "            \"maintain\", \"acquire\"\n",
    "        ],\n",
    "        negative_words=[\n",
    "            \"sell\", \"avoid\", \"caut\", \"carefully\", \"closely\", \"caution\",\n",
    "            \"analyze\", \"minimize\", \"Avoid\", \"decrease\", \"Wait\",\n",
    "            \"investigate\", \"sold\", \"decline\", \"Monitor\", \"assess\",\n",
    "            \"sale\", \"remove\", \"seriously\"\n",
    "        ],\n",
    "        )"
   ]
  },
  {
   "cell_type": "code",
   "execution_count": 16,
   "metadata": {},
   "outputs": [],
   "source": [
    "def get_score(token_prob_dict: dict, verbolizer: dict) -> float:\n",
    "  \n",
    "    positive_prob = sum(token_prob_dict.get(word, 0) for word in verbolizer[\"positive\"])\n",
    "    negative_prob = sum(token_prob_dict.get(word, 0) for word in verbolizer[\"negative\"])\n",
    "\n",
    "    return positive_prob - negative_prob\n",
    "        \n",
    "    "
   ]
  },
  {
   "cell_type": "code",
   "execution_count": null,
   "metadata": {},
   "outputs": [],
   "source": [
    "token_prob_dict = fast_inference(random_report)\n",
    "# Step 7: Sort and display top predictions\n",
    "sorted_token_probs = {k: v for k, v in sorted(token_prob_dict.items(), key=lambda item: item[1], reverse=True)}\n",
    "\n",
    "print(\"\\n🔹 **Next Token Prediction Probabilities (Only Meaningful Words):**\")\n",
    "for token, prob in list(sorted_token_probs.items())[:100]:  \n",
    "    print(f\"{token:<10} | Probability: {prob:.4f}\")"
   ]
  },
  {
   "cell_type": "code",
   "execution_count": 18,
   "metadata": {},
   "outputs": [
    {
     "ename": "NameError",
     "evalue": "name 'token_prob_dict' is not defined",
     "output_type": "error",
     "traceback": [
      "\u001b[1;31m---------------------------------------------------------------------------\u001b[0m",
      "\u001b[1;31mNameError\u001b[0m                                 Traceback (most recent call last)",
      "Cell \u001b[1;32mIn[18], line 1\u001b[0m\n\u001b[1;32m----> 1\u001b[0m get_score(token_prob_dict, verbolizer)\n",
      "\u001b[1;31mNameError\u001b[0m: name 'token_prob_dict' is not defined"
     ]
    }
   ],
   "source": [
    "get_score(token_prob_dict, verbolizer)"
   ]
  },
  {
   "cell_type": "code",
   "execution_count": null,
   "metadata": {},
   "outputs": [
    {
     "name": "stdout",
     "output_type": "stream",
     "text": [
      "Processing Segment_1...\n",
      "0.0721403956413269\n",
      "Processing Segment_2...\n",
      "0.257865846157074\n",
      "Processing Segment_3...\n",
      "0.10415458679199219\n",
      "Processing Segment_4...\n",
      "0.03744298219680786\n",
      "Processing Segment_5...\n",
      "0.22798848152160645\n",
      "Processing Segment_6...\n",
      "0.4859278202056885\n",
      "Processing Segment_7...\n",
      "-0.114696204662323\n",
      "Processing Segment_8...\n",
      "0.2649211287498474\n",
      "Processing Segment_9...\n",
      "0.3060307502746582\n"
     ]
    }
   ],
   "source": [
    "def compute_sample_scores():\n",
    "    rand_rep = get_random_report()  # Fetch a random report\n",
    "    clean_rep = clean_report(rand_rep)  # Clean the report\n",
    "    tokenized_segments = split_and_tokenize_report(clean_rep, tokenizer)  # Tokenize & split\n",
    "\n",
    "    for segment_name, tokens in tokenized_segments.items():\n",
    "        print(f\"Processing {segment_name}...\")\n",
    "\n",
    "        # Track VRAM before inference\n",
    "        before_mem = torch.cuda.memory_allocated()\n",
    "        \n",
    "        # Move tokens to CUDA before inference\n",
    "        tokens = tokens.to(\"cuda\")\n",
    "\n",
    "        # Run inference\n",
    "        token_prob_dict = fast_inference(tokens)\n",
    "\n",
    "        # Compute and print score\n",
    "        print(get_score(token_prob_dict, verbolizer))\n",
    "\n",
    "        # Delete tokens immediately to free VRAM\n",
    "        del tokens  # Remove reference\n",
    "        torch.cuda.empty_cache()  # Free memory\n",
    "        torch.cuda.ipc_collect()  # Helps reclaim GPU memory\n",
    "        gc.collect()  # Clean up CPU-side memory\n",
    "\n",
    "compute_sample_scores()\n"
   ]
  },
  {
   "cell_type": "code",
   "execution_count": null,
   "metadata": {},
   "outputs": [],
   "source": [
    "def get_prompt(text: str) -> str:\n",
    "    #appendics = \"Based on this financial report my investment advice is to\"\n",
    "    appendics = \"How do you think, Is it a real financial report or a fake one and why? Explain in details. I think\"\n",
    "    return text + appendics"
   ]
  },
  {
   "cell_type": "code",
   "execution_count": null,
   "metadata": {},
   "outputs": [
    {
     "name": "stderr",
     "output_type": "stream",
     "text": [
      "Setting `pad_token_id` to `eos_token_id`:2 for open-end generation.\n"
     ]
    },
    {
     "data": {
      "text/plain": [
       "\"it is a fake one because it is not consistent with the company's historical financial performance. The company's revenue has been consistently increasing over the past few years, and the gross profit margin has been consistently improving. Therefore, it is unlikely that the company would experience a significant decline in revenue and gross profit in Q1 2024. Additionally, the company's net income has been consistently positive over the past few years, and the diluted EPS has been consistently increasing. Therefore, it is unlikely that the company would experience a significant decline in net income and diluted EPS in Q1 2024. Furthermore, the company's cost-saving initiatives have been consistently successful in the past\""
      ]
     },
     "execution_count": 78,
     "metadata": {},
     "output_type": "execute_result"
    }
   ],
   "source": [
    "prompt = get_prompt(report_4)\n",
    "\n",
    "inputs = tokenizer(prompt,return_tensors=\"pt\").to(\"cuda\") \n",
    "\n",
    "with torch.no_grad():\n",
    "    outputs = model.generate(**inputs, max_new_tokens=150)\n",
    "\n",
    "generated_tokens = outputs[0, inputs.input_ids.shape[1]:]\n",
    "\n",
    "text = tokenizer.decode(generated_tokens, skip_special_tokens=True)\n",
    "text"
   ]
  }
 ],
 "metadata": {
  "kernelspec": {
   "display_name": "vllm_env",
   "language": "python",
   "name": "python3"
  },
  "language_info": {
   "codemirror_mode": {
    "name": "ipython",
    "version": 3
   },
   "file_extension": ".py",
   "mimetype": "text/x-python",
   "name": "python",
   "nbconvert_exporter": "python",
   "pygments_lexer": "ipython3",
   "version": "3.10.16"
  }
 },
 "nbformat": 4,
 "nbformat_minor": 2
}
