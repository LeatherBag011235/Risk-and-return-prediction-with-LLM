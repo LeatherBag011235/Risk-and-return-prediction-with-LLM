{
 "cells": [
  {
   "cell_type": "code",
   "execution_count": null,
   "metadata": {},
   "outputs": [
    {
     "name": "stderr",
     "output_type": "stream",
     "text": [
      "/home/maxim-shibanov/anaconda3/envs/vllm_env/lib/python3.10/site-packages/accelerate/utils/modeling.py:1569: UserWarning: Current model requires 64 bytes of buffer for offloaded layers, which seems does not fit any GPU's remaining memory. If you are experiencing a OOM later, please consider using offload_buffers=True.\n",
      "  warnings.warn(\n",
      "Loading checkpoint shards:  21%|██        | 4/19 [00:09<00:34,  2.30s/it]"
     ]
    }
   ],
   "source": [
    "import os\n",
    "os.environ[\"PYTORCH_CUDA_ALLOC_CONF\"] = \"expandable_segments:True\"\n",
    "\n",
    "import torch\n",
    "from transformers import AutoModelForCausalLM, AutoTokenizer, BitsAndBytesConfig\n",
    "\n",
    "model_name = \"mistralai/Mixtral-8x7B-Instruct-v0.1\"\n",
    "\n",
    "# ✅ Quantization: Load in 8-bit to save VRAM\n",
    "quant_config = BitsAndBytesConfig(\n",
    "    load_in_8bit=True,\n",
    "    llm_int8_enable_fp32_cpu_offload=True\n",
    ")\n",
    "\n",
    "# ✅ Load Model (let HuggingFace decide offloading for max safety)\n",
    "model = AutoModelForCausalLM.from_pretrained(\n",
    "    model_name,\n",
    "    quantization_config=quant_config,\n",
    "    attn_implementation=\"flash_attention_2\",\n",
    "    device_map=\"auto\",  # avoid custom map unless necessary\n",
    "    torch_dtype=torch.float16,  # Flash-Attn2 works best with fp16\n",
    ")\n",
    "\n",
    "# ✅ Load Tokenizer\n",
    "tokenizer = AutoTokenizer.from_pretrained(model_name)\n",
    "\n",
    "# ✅ Clear any garbage before generation\n",
    "torch.cuda.empty_cache()\n",
    "\n",
    "# ✅ Prepare input and send it to the same device as model input embeddings\n",
    "input_text = \"Explain quantum entanglement like I'm five.\"\n",
    "inputs = tokenizer(input_text, return_tensors=\"pt\")\n",
    "inputs = {k: v.to(model.device) for k, v in inputs.items()}\n",
    "\n",
    "# ✅ Generate\n",
    "with torch.no_grad():\n",
    "    output = model.generate(**inputs, max_new_tokens=64)  # reduce if needed\n",
    "\n",
    "print(tokenizer.decode(output[0], skip_special_tokens=True))\n"
   ]
  }
 ],
 "metadata": {
  "kernelspec": {
   "display_name": "vllm_env",
   "language": "python",
   "name": "python3"
  },
  "language_info": {
   "name": "python",
   "version": "3.10.16"
  }
 },
 "nbformat": 4,
 "nbformat_minor": 2
}
