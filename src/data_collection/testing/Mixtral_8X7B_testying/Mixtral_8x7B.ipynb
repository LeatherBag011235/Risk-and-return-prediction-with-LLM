{
 "cells": [
  {
   "cell_type": "code",
   "execution_count": 1,
   "metadata": {},
   "outputs": [
    {
     "name": "stderr",
     "output_type": "stream",
     "text": [
      "/home/maxim-shibanov/anaconda3/envs/vllm_env/lib/python3.10/site-packages/torchvision/io/image.py:13: UserWarning: Failed to load image Python extension: '/home/maxim-shibanov/anaconda3/envs/vllm_env/lib/python3.10/site-packages/torchvision/image.so: undefined symbol: _ZN5torch3jit17parseSchemaOrNameERKSs'If you don't plan on using image functionality from `torchvision.io`, you can ignore this warning. Otherwise, there might be something wrong with your environment. Did you have `libjpeg` or `libpng` installed before building `torchvision` from source?\n",
      "  warn(\n"
     ]
    },
    {
     "data": {
      "application/vnd.jupyter.widget-view+json": {
       "model_id": "bbf500bb01d448aa98ce627889b18314",
       "version_major": 2,
       "version_minor": 0
      },
      "text/plain": [
       "Fetching 19 files:   0%|          | 0/19 [00:00<?, ?it/s]"
      ]
     },
     "metadata": {},
     "output_type": "display_data"
    },
    {
     "data": {
      "application/vnd.jupyter.widget-view+json": {
       "model_id": "2fa2d6c9a36648d99aee6967d2a06163",
       "version_major": 2,
       "version_minor": 0
      },
      "text/plain": [
       "model-00003-of-00019.safetensors:  57%|#####7    | 2.86G/4.98G [00:00<?, ?B/s]"
      ]
     },
     "metadata": {},
     "output_type": "display_data"
    },
    {
     "data": {
      "application/vnd.jupyter.widget-view+json": {
       "model_id": "7585e9b62e564103a1bfb5db8d58b047",
       "version_major": 2,
       "version_minor": 0
      },
      "text/plain": [
       "model-00002-of-00019.safetensors:  55%|#####4    | 2.72G/4.98G [00:00<?, ?B/s]"
      ]
     },
     "metadata": {},
     "output_type": "display_data"
    },
    {
     "data": {
      "application/vnd.jupyter.widget-view+json": {
       "model_id": "8c22fc9197c748f79bd37c2323b49d46",
       "version_major": 2,
       "version_minor": 0
      },
      "text/plain": [
       "model-00001-of-00019.safetensors:  57%|#####7    | 2.81G/4.89G [00:00<?, ?B/s]"
      ]
     },
     "metadata": {},
     "output_type": "display_data"
    },
    {
     "data": {
      "application/vnd.jupyter.widget-view+json": {
       "model_id": "94987275a38d4a498463383d4a01e55e",
       "version_major": 2,
       "version_minor": 0
      },
      "text/plain": [
       "model-00006-of-00019.safetensors:  55%|#####4    | 2.72G/4.98G [00:00<?, ?B/s]"
      ]
     },
     "metadata": {},
     "output_type": "display_data"
    },
    {
     "data": {
      "application/vnd.jupyter.widget-view+json": {
       "model_id": "5046edaf6db742628eeea1dbc2fb2329",
       "version_major": 2,
       "version_minor": 0
      },
      "text/plain": [
       "model-00005-of-00019.safetensors:  36%|###5      | 1.79G/4.98G [00:00<?, ?B/s]"
      ]
     },
     "metadata": {},
     "output_type": "display_data"
    },
    {
     "data": {
      "application/vnd.jupyter.widget-view+json": {
       "model_id": "7869e495c4de4ef68b94bfae4465d69c",
       "version_major": 2,
       "version_minor": 0
      },
      "text/plain": [
       "model-00007-of-00019.safetensors:  69%|######8   | 3.38G/4.90G [00:00<?, ?B/s]"
      ]
     },
     "metadata": {},
     "output_type": "display_data"
    },
    {
     "data": {
      "application/vnd.jupyter.widget-view+json": {
       "model_id": "6e831dd2155548ab934feb6ad61e9366",
       "version_major": 2,
       "version_minor": 0
      },
      "text/plain": [
       "model-00008-of-00019.safetensors:  56%|#####5    | 2.77G/4.98G [00:00<?, ?B/s]"
      ]
     },
     "metadata": {},
     "output_type": "display_data"
    },
    {
     "data": {
      "application/vnd.jupyter.widget-view+json": {
       "model_id": "8130e5582b4d4b499da47b9eb08c9577",
       "version_major": 2,
       "version_minor": 0
      },
      "text/plain": [
       "model-00004-of-00019.safetensors:  69%|######9   | 3.40G/4.90G [00:00<?, ?B/s]"
      ]
     },
     "metadata": {},
     "output_type": "display_data"
    },
    {
     "data": {
      "application/vnd.jupyter.widget-view+json": {
       "model_id": "70cca6bc020d4f0880aeaadbffd19a42",
       "version_major": 2,
       "version_minor": 0
      },
      "text/plain": [
       "model-00009-of-00019.safetensors:   0%|          | 0.00/4.98G [00:00<?, ?B/s]"
      ]
     },
     "metadata": {},
     "output_type": "display_data"
    },
    {
     "data": {
      "application/vnd.jupyter.widget-view+json": {
       "model_id": "c290aee74ca3464b93607d38b6a17798",
       "version_major": 2,
       "version_minor": 0
      },
      "text/plain": [
       "model-00010-of-00019.safetensors:   0%|          | 0.00/4.90G [00:00<?, ?B/s]"
      ]
     },
     "metadata": {},
     "output_type": "display_data"
    },
    {
     "data": {
      "application/vnd.jupyter.widget-view+json": {
       "model_id": "bab7c59da2b1464883ee454127554c3e",
       "version_major": 2,
       "version_minor": 0
      },
      "text/plain": [
       "model-00011-of-00019.safetensors:   0%|          | 0.00/4.98G [00:00<?, ?B/s]"
      ]
     },
     "metadata": {},
     "output_type": "display_data"
    },
    {
     "data": {
      "application/vnd.jupyter.widget-view+json": {
       "model_id": "9ab9fc3550424f1e9781946f45d8cfc8",
       "version_major": 2,
       "version_minor": 0
      },
      "text/plain": [
       "model-00012-of-00019.safetensors:   0%|          | 0.00/4.98G [00:00<?, ?B/s]"
      ]
     },
     "metadata": {},
     "output_type": "display_data"
    },
    {
     "data": {
      "application/vnd.jupyter.widget-view+json": {
       "model_id": "9e5ac25e575048108781f1229f592a03",
       "version_major": 2,
       "version_minor": 0
      },
      "text/plain": [
       "model-00013-of-00019.safetensors:   0%|          | 0.00/4.98G [00:00<?, ?B/s]"
      ]
     },
     "metadata": {},
     "output_type": "display_data"
    },
    {
     "data": {
      "application/vnd.jupyter.widget-view+json": {
       "model_id": "55a5d238e13243d4a381c46538568246",
       "version_major": 2,
       "version_minor": 0
      },
      "text/plain": [
       "model-00014-of-00019.safetensors:   0%|          | 0.00/4.90G [00:00<?, ?B/s]"
      ]
     },
     "metadata": {},
     "output_type": "display_data"
    },
    {
     "data": {
      "application/vnd.jupyter.widget-view+json": {
       "model_id": "eb6487c79ad64d47bf123b324cc6cf3e",
       "version_major": 2,
       "version_minor": 0
      },
      "text/plain": [
       "model-00015-of-00019.safetensors:   0%|          | 0.00/4.98G [00:00<?, ?B/s]"
      ]
     },
     "metadata": {},
     "output_type": "display_data"
    },
    {
     "data": {
      "application/vnd.jupyter.widget-view+json": {
       "model_id": "eeb0e702c46f4c65a97d237f09a62888",
       "version_major": 2,
       "version_minor": 0
      },
      "text/plain": [
       "model-00016-of-00019.safetensors:   0%|          | 0.00/4.98G [00:00<?, ?B/s]"
      ]
     },
     "metadata": {},
     "output_type": "display_data"
    },
    {
     "name": "stderr",
     "output_type": "stream",
     "text": [
      "Error while downloading from https://cdn-lfs-us-1.hf.co/repos/56/dd/56dddba94664e0d83f2b33a201ebd592ec49ebaefd116e268abfb7cc19cbdf5c/ff24540d9967fe43c0c17cadaea7f2a34d080a2f9e58b913038b9bfd0bf8ca49?response-content-disposition=inline%3B+filename*%3DUTF-8%27%27model-00011-of-00019.safetensors%3B+filename%3D%22model-00011-of-00019.safetensors%22%3B&Expires=1742845293&Policy=eyJTdGF0ZW1lbnQiOlt7IkNvbmRpdGlvbiI6eyJEYXRlTGVzc1RoYW4iOnsiQVdTOkVwb2NoVGltZSI6MTc0Mjg0NTI5M319LCJSZXNvdXJjZSI6Imh0dHBzOi8vY2RuLWxmcy11cy0xLmhmLmNvL3JlcG9zLzU2L2RkLzU2ZGRkYmE5NDY2NGUwZDgzZjJiMzNhMjAxZWJkNTkyZWM0OWViYWVmZDExNmUyNjhhYmZiN2NjMTljYmRmNWMvZmYyNDU0MGQ5OTY3ZmU0M2MwYzE3Y2FkYWVhN2YyYTM0ZDA4MGEyZjllNThiOTEzMDM4YjliZmQwYmY4Y2E0OT9yZXNwb25zZS1jb250ZW50LWRpc3Bvc2l0aW9uPSoifV19&Signature=OHf3hX9aIOcqA87WKm5Gqo2nYf1uSfCU2Fo3ivFsxiMXUXPDkYHo%7EHp-Z5X3inPfRMqIQR5eHJHnu7OwIaQbgEztGD5iufOsKsNCyeuGXN0fVIVqG1jTi5LZLU7uX5uvlr6fyMBQlS9wgtSuI02a2sP6-jKLPNCVkQd-YtX4ikANi-TkWqjVkARCdR-3vo4VhexXTgj95M%7E03gsoHlw7XEuwpPaVd4ac9WonUaZz0QrCXIQslK6qMmS7aPgTsloUaihTB5jGgnOcEqJQ-MNCDt-7vBOZuND9WKH4Bz5wxqd8v7O%7E9MfqWnlpiAIl%7EvnAQjwvD3dCzYgXyL5UKyUD8A__&Key-Pair-Id=K24J24Z295AEI9: HTTPSConnectionPool(host='cdn-lfs-us-1.hf.co', port=443): Read timed out.\n",
      "Trying to resume download...\n",
      "Error while downloading from https://cdn-lfs-us-1.hf.co/repos/56/dd/56dddba94664e0d83f2b33a201ebd592ec49ebaefd116e268abfb7cc19cbdf5c/5882e4366c63048a0ad36ef6d90194a2fabdb42a2140be79c8e0ec2e8ac2ccc5?response-content-disposition=inline%3B+filename*%3DUTF-8%27%27model-00009-of-00019.safetensors%3B+filename%3D%22model-00009-of-00019.safetensors%22%3B&Expires=1742845254&Policy=eyJTdGF0ZW1lbnQiOlt7IkNvbmRpdGlvbiI6eyJEYXRlTGVzc1RoYW4iOnsiQVdTOkVwb2NoVGltZSI6MTc0Mjg0NTI1NH19LCJSZXNvdXJjZSI6Imh0dHBzOi8vY2RuLWxmcy11cy0xLmhmLmNvL3JlcG9zLzU2L2RkLzU2ZGRkYmE5NDY2NGUwZDgzZjJiMzNhMjAxZWJkNTkyZWM0OWViYWVmZDExNmUyNjhhYmZiN2NjMTljYmRmNWMvNTg4MmU0MzY2YzYzMDQ4YTBhZDM2ZWY2ZDkwMTk0YTJmYWJkYjQyYTIxNDBiZTc5YzhlMGVjMmU4YWMyY2NjNT9yZXNwb25zZS1jb250ZW50LWRpc3Bvc2l0aW9uPSoifV19&Signature=icj%7E0nmBcwRAbbQXBhv7aHKoa3J7Sb73M3t5hTOlU5xIEvOjQ-jgIxX1ceNhJyat-bmdhr49iDSMby18uUiwnLcRSxB%7E86pvi4QyeeYMANG05h0IF58DryjisBLS6NfJyl920hN4N9WwaaU1xqYoLeC4kfs%7EsfwT9EAqrdtNuEPYaQzeVJdHkLPSI0WvzloaFzxxYmMRRn42jvERJJ8nJJ2ZAtFS-U9nef7KrGzu7htC%7EuFrRpIzeWyKwyNiA-xqTMs7Wg68501pXOtKQMvCGRmYe5XIOlLxeaHzbHQjB4649SvhNourMBmGP7TlL1wbx7O-DxP%7EaW3z8ul24-QV0A__&Key-Pair-Id=K24J24Z295AEI9: HTTPSConnectionPool(host='cdn-lfs-us-1.hf.co', port=443): Read timed out.\n",
      "Trying to resume download...\n",
      "Error while downloading from https://cdn-lfs-us-1.hf.co/repos/56/dd/56dddba94664e0d83f2b33a201ebd592ec49ebaefd116e268abfb7cc19cbdf5c/e56a2e7eda699bf4ec1433bd07d7cb86488420813e66463d2e2296d7accebc5c?response-content-disposition=inline%3B+filename*%3DUTF-8%27%27model-00013-of-00019.safetensors%3B+filename%3D%22model-00013-of-00019.safetensors%22%3B&Expires=1742845335&Policy=eyJTdGF0ZW1lbnQiOlt7IkNvbmRpdGlvbiI6eyJEYXRlTGVzc1RoYW4iOnsiQVdTOkVwb2NoVGltZSI6MTc0Mjg0NTMzNX19LCJSZXNvdXJjZSI6Imh0dHBzOi8vY2RuLWxmcy11cy0xLmhmLmNvL3JlcG9zLzU2L2RkLzU2ZGRkYmE5NDY2NGUwZDgzZjJiMzNhMjAxZWJkNTkyZWM0OWViYWVmZDExNmUyNjhhYmZiN2NjMTljYmRmNWMvZTU2YTJlN2VkYTY5OWJmNGVjMTQzM2JkMDdkN2NiODY0ODg0MjA4MTNlNjY0NjNkMmUyMjk2ZDdhY2NlYmM1Yz9yZXNwb25zZS1jb250ZW50LWRpc3Bvc2l0aW9uPSoifV19&Signature=N3gJF6rt%7EVQHJlnAgoVUDjXM0BfZTCTdtwupVfaakryo-7DxxN25IgK7W9EEX7k5EMCs9V5OMG-l0GqJUQbISBNt9bfQW5PlwBSMKPkHgrboQWLm17sd6rmx-U6h4lQA-%7EuvBd%7E-nXNGfsqfKkuUj5ywHL-Rw7JRVxHRe7IFXbt59CgV%7EivoCvV24D3cDrw7u7rLE6rEMz7Bzka5wnu0-3CC%7EPRzwPbVVEj0KvC6PxwLJp569A7R5cyPg9-K9iKvhIqq3CO%7EsbPTJGkylzyCTPgXnB%7Ehwzzhct25cGVVzsCMB0uOKjZ9pfotedRVjM-a%7EQVXPQlsmgS8egY8YVlB8w__&Key-Pair-Id=K24J24Z295AEI9: HTTPSConnectionPool(host='cdn-lfs-us-1.hf.co', port=443): Read timed out.\n",
      "Trying to resume download...\n",
      "Error while downloading from https://cdn-lfs-us-1.hf.co/repos/56/dd/56dddba94664e0d83f2b33a201ebd592ec49ebaefd116e268abfb7cc19cbdf5c/76466bfc2312f11559480981f212e4cca6e98096bf8df0fd90cce1f0f4709a9c?response-content-disposition=inline%3B+filename*%3DUTF-8%27%27model-00016-of-00019.safetensors%3B+filename%3D%22model-00016-of-00019.safetensors%22%3B&Expires=1742845468&Policy=eyJTdGF0ZW1lbnQiOlt7IkNvbmRpdGlvbiI6eyJEYXRlTGVzc1RoYW4iOnsiQVdTOkVwb2NoVGltZSI6MTc0Mjg0NTQ2OH19LCJSZXNvdXJjZSI6Imh0dHBzOi8vY2RuLWxmcy11cy0xLmhmLmNvL3JlcG9zLzU2L2RkLzU2ZGRkYmE5NDY2NGUwZDgzZjJiMzNhMjAxZWJkNTkyZWM0OWViYWVmZDExNmUyNjhhYmZiN2NjMTljYmRmNWMvNzY0NjZiZmMyMzEyZjExNTU5NDgwOTgxZjIxMmU0Y2NhNmU5ODA5NmJmOGRmMGZkOTBjY2UxZjBmNDcwOWE5Yz9yZXNwb25zZS1jb250ZW50LWRpc3Bvc2l0aW9uPSoifV19&Signature=F1sZlcJNNpOgGtQE-xPihL5GOg34CJA%7Em1pH9ODJNm5L94rDFuj3wGppGoghYMYnYWsTis-Kn951RQWk39H1B76wNaoL8%7EqIMTTdpd0V3hAG5eXIntigbdyJkWNAsXlcSSH8cXmnzIjfHLNO9g%7EQiGXlgYLdS02SV3Ok5l5FhoI%7EQz4sGKRRbNskT-Jt1gkSudWz4i87WOEUZka4tj3ZZiW%7EH9VRzfmEUbjgxlYZaW-LKCGxe2UjX4lUJLPp6N5BWjJd%7E0%7ErW-P8y0MR5vNh0HhDWpm3atRoKTVBn7Rn5vUZmjQ6RCjptdFtQXE4sj5v9I%7EdSsHiQ6tP6HbsCovO7A__&Key-Pair-Id=K24J24Z295AEI9: HTTPSConnectionPool(host='cdn-lfs-us-1.hf.co', port=443): Read timed out.\n",
      "Trying to resume download...\n",
      "Error while downloading from https://cdn-lfs-us-1.hf.co/repos/56/dd/56dddba94664e0d83f2b33a201ebd592ec49ebaefd116e268abfb7cc19cbdf5c/61e0f22bff93a68e114dbc3d75c1dd1e6687d554dba0cfdf1743950aa04ff1cf?response-content-disposition=inline%3B+filename*%3DUTF-8%27%27model-00015-of-00019.safetensors%3B+filename%3D%22model-00015-of-00019.safetensors%22%3B&Expires=1742845445&Policy=eyJTdGF0ZW1lbnQiOlt7IkNvbmRpdGlvbiI6eyJEYXRlTGVzc1RoYW4iOnsiQVdTOkVwb2NoVGltZSI6MTc0Mjg0NTQ0NX19LCJSZXNvdXJjZSI6Imh0dHBzOi8vY2RuLWxmcy11cy0xLmhmLmNvL3JlcG9zLzU2L2RkLzU2ZGRkYmE5NDY2NGUwZDgzZjJiMzNhMjAxZWJkNTkyZWM0OWViYWVmZDExNmUyNjhhYmZiN2NjMTljYmRmNWMvNjFlMGYyMmJmZjkzYTY4ZTExNGRiYzNkNzVjMWRkMWU2Njg3ZDU1NGRiYTBjZmRmMTc0Mzk1MGFhMDRmZjFjZj9yZXNwb25zZS1jb250ZW50LWRpc3Bvc2l0aW9uPSoifV19&Signature=cuquwWG5jZ2efiHApmplVyUNtVQplfr4z1r7bnul1uvbi3u-2TNCPSOfV1CSQRMA04niqREYA0nlOy6EWoiqH0e0WWijiLQV3X71AQ5QXeVG7t91UsxpDH9O-hWcFp477JxtiADkv4BmXnfCKrvZ88pmN%7EfpUKHRcSETghukLS-ULUrtf%7E60F0nwSku%7EB7Xx1OEFrlJZTkuds1xyY2Rt7ereKLbrKzXnpJIhFuA43faogFj4y55e3jzYKSw2b7BcbFlcYJeyacSPB%7EAmLf2JBdaTsxuNvzjPjaGq1qkLCeCwuNmh2KgKCzLAchaTjXbcF7i2gnO6ZvgjphNmjIuw1Q__&Key-Pair-Id=K24J24Z295AEI9: HTTPSConnectionPool(host='cdn-lfs-us-1.hf.co', port=443): Read timed out.\n",
      "Trying to resume download...\n",
      "Error while downloading from https://cdn-lfs-us-1.hf.co/repos/56/dd/56dddba94664e0d83f2b33a201ebd592ec49ebaefd116e268abfb7cc19cbdf5c/da627f6a3c8fdc6e35b9918d2aa53704d4044191fcc86c7c0b1ac57f00e707f7?response-content-disposition=inline%3B+filename*%3DUTF-8%27%27model-00014-of-00019.safetensors%3B+filename%3D%22model-00014-of-00019.safetensors%22%3B&Expires=1742845353&Policy=eyJTdGF0ZW1lbnQiOlt7IkNvbmRpdGlvbiI6eyJEYXRlTGVzc1RoYW4iOnsiQVdTOkVwb2NoVGltZSI6MTc0Mjg0NTM1M319LCJSZXNvdXJjZSI6Imh0dHBzOi8vY2RuLWxmcy11cy0xLmhmLmNvL3JlcG9zLzU2L2RkLzU2ZGRkYmE5NDY2NGUwZDgzZjJiMzNhMjAxZWJkNTkyZWM0OWViYWVmZDExNmUyNjhhYmZiN2NjMTljYmRmNWMvZGE2MjdmNmEzYzhmZGM2ZTM1Yjk5MThkMmFhNTM3MDRkNDA0NDE5MWZjYzg2YzdjMGIxYWM1N2YwMGU3MDdmNz9yZXNwb25zZS1jb250ZW50LWRpc3Bvc2l0aW9uPSoifV19&Signature=TxuqYK0qWTWufsjt%7ETTgkuHt8fyuQXGTPfQvb%7ES5tpQCSbRldT5XqDbgh9Jl1XjWLkOclKZ3I89-VbX8orpwpCJzak2CH28JEdh%7Egg2uBxj5CY5daHvH6TxyT1kFIxPEcv5OgNHVGKMsi3Rm9RM7pcfa-hePWCJmgcegznmuSsc%7E8rS2eCp7unTknwM5VuuOT97b6qtvhPOYfAkAtUKFEb9BbiV4rJIHr0wd3fFWt7UPh0g-U7NXtZbcE3RAqVk5J9rB9SjKNKeXZH5B55YIQLDNA8M1KemstOUUj9I-3IWOAUwdYbMxtDMJ9qmL9%7EIwYHzvn2ha3A5MTgP11dBoqQ__&Key-Pair-Id=K24J24Z295AEI9: HTTPSConnectionPool(host='cdn-lfs-us-1.hf.co', port=443): Read timed out.\n",
      "Trying to resume download...\n",
      "Error while downloading from https://cdn-lfs-us-1.hf.co/repos/56/dd/56dddba94664e0d83f2b33a201ebd592ec49ebaefd116e268abfb7cc19cbdf5c/48bc12845676eab1adb3cfce7037a7ecd664a0d5f5deaf93c7362a5bb5173298?response-content-disposition=inline%3B+filename*%3DUTF-8%27%27model-00012-of-00019.safetensors%3B+filename%3D%22model-00012-of-00019.safetensors%22%3B&Expires=1742845305&Policy=eyJTdGF0ZW1lbnQiOlt7IkNvbmRpdGlvbiI6eyJEYXRlTGVzc1RoYW4iOnsiQVdTOkVwb2NoVGltZSI6MTc0Mjg0NTMwNX19LCJSZXNvdXJjZSI6Imh0dHBzOi8vY2RuLWxmcy11cy0xLmhmLmNvL3JlcG9zLzU2L2RkLzU2ZGRkYmE5NDY2NGUwZDgzZjJiMzNhMjAxZWJkNTkyZWM0OWViYWVmZDExNmUyNjhhYmZiN2NjMTljYmRmNWMvNDhiYzEyODQ1Njc2ZWFiMWFkYjNjZmNlNzAzN2E3ZWNkNjY0YTBkNWY1ZGVhZjkzYzczNjJhNWJiNTE3MzI5OD9yZXNwb25zZS1jb250ZW50LWRpc3Bvc2l0aW9uPSoifV19&Signature=pTcDhGwDqP9ctRLq%7EcpAiw4idGGKp6OjWk5Dblw0vlchzykuIVDQIay8mkiGIg9L0mZWrluNNX0Vk%7E1Qls6skNFqmuUNwAFEH44r9v8CTHPu4AcS0G7NefllXnNTNHQaLvisF2vkStHdSfuyo-8tc6VLE9MYiLWcLzoLuWitO9sLoj5sEFkU2AC1J0UVyhdZdSAvO3S8e3eSPYyHP2Pp5RX1Vds412tDNtcbs2QNxIAYhFHRHFjz6YADATiwQSz7OrhactM16y17Ui09ccl9c2S6DgTGBhpS4LY7fsVFEKretRK6sjc6rsvKg4YPYfWIRmcEfP0dyp5I6fsjYYjG7A__&Key-Pair-Id=K24J24Z295AEI9: HTTPSConnectionPool(host='cdn-lfs-us-1.hf.co', port=443): Read timed out.\n",
      "Trying to resume download...\n",
      "Error while downloading from https://cdn-lfs-us-1.hf.co/repos/56/dd/56dddba94664e0d83f2b33a201ebd592ec49ebaefd116e268abfb7cc19cbdf5c/77813d1dbee63419226ac15e4b8f28d075c3f7921cc664090236c491667eaf29?response-content-disposition=inline%3B+filename*%3DUTF-8%27%27model-00010-of-00019.safetensors%3B+filename%3D%22model-00010-of-00019.safetensors%22%3B&Expires=1742845291&Policy=eyJTdGF0ZW1lbnQiOlt7IkNvbmRpdGlvbiI6eyJEYXRlTGVzc1RoYW4iOnsiQVdTOkVwb2NoVGltZSI6MTc0Mjg0NTI5MX19LCJSZXNvdXJjZSI6Imh0dHBzOi8vY2RuLWxmcy11cy0xLmhmLmNvL3JlcG9zLzU2L2RkLzU2ZGRkYmE5NDY2NGUwZDgzZjJiMzNhMjAxZWJkNTkyZWM0OWViYWVmZDExNmUyNjhhYmZiN2NjMTljYmRmNWMvNzc4MTNkMWRiZWU2MzQxOTIyNmFjMTVlNGI4ZjI4ZDA3NWMzZjc5MjFjYzY2NDA5MDIzNmM0OTE2NjdlYWYyOT9yZXNwb25zZS1jb250ZW50LWRpc3Bvc2l0aW9uPSoifV19&Signature=HagJwIeKHfdjaQrJOHKMrrKaJOCGWM1YarBCPz438%7Ex6EaZG99gqB5zaez15zA11-4gA0DQ6c22u7G0iA9mada44QGag1YB4S8tcyXrh5L2VhIJxdd2WOZyV3noSEAQb33u9X6mqwbLwssD1V5zGZFC5Qcd-avzGTd4vvnN2CBonZI6GJOtaiNqDSgNM-mrgLw797ZzoDGB8y8MfOYh9ERE96StC1-8ZopDJENvDq2Cv27kGIbJUirCWV4x010Ui2JEOAVbTvRqub%7ER4NjGDtau-5SX7LKXx8oAMFuXW5dFrr16wB2HmTElfUodYXXmuQs5qb6aSc-eyHnJGcfQsLw__&Key-Pair-Id=K24J24Z295AEI9: HTTPSConnectionPool(host='cdn-lfs-us-1.hf.co', port=443): Read timed out.\n",
      "Trying to resume download...\n"
     ]
    },
    {
     "data": {
      "application/vnd.jupyter.widget-view+json": {
       "model_id": "8fc2a0042f264fde897fd9c04137d548",
       "version_major": 2,
       "version_minor": 0
      },
      "text/plain": [
       "model-00012-of-00019.safetensors:  86%|########5 | 4.28G/4.98G [00:00<?, ?B/s]"
      ]
     },
     "metadata": {},
     "output_type": "display_data"
    },
    {
     "data": {
      "application/vnd.jupyter.widget-view+json": {
       "model_id": "c15ad4c595a049068b764fb9806db70f",
       "version_major": 2,
       "version_minor": 0
      },
      "text/plain": [
       "model-00016-of-00019.safetensors:  64%|######3   | 3.17G/4.98G [00:00<?, ?B/s]"
      ]
     },
     "metadata": {},
     "output_type": "display_data"
    },
    {
     "data": {
      "application/vnd.jupyter.widget-view+json": {
       "model_id": "71d4142967714a5cb224b1feb53981f6",
       "version_major": 2,
       "version_minor": 0
      },
      "text/plain": [
       "model-00013-of-00019.safetensors:  65%|######4   | 3.22G/4.98G [00:00<?, ?B/s]"
      ]
     },
     "metadata": {},
     "output_type": "display_data"
    },
    {
     "data": {
      "application/vnd.jupyter.widget-view+json": {
       "model_id": "5187b2415a1f4a6b8c9ea0d367d0d09c",
       "version_major": 2,
       "version_minor": 0
      },
      "text/plain": [
       "model-00014-of-00019.safetensors:  96%|#########5| 4.70G/4.90G [00:00<?, ?B/s]"
      ]
     },
     "metadata": {},
     "output_type": "display_data"
    },
    {
     "data": {
      "application/vnd.jupyter.widget-view+json": {
       "model_id": "792c8d8147cf47f399c6c5454c47b391",
       "version_major": 2,
       "version_minor": 0
      },
      "text/plain": [
       "model-00009-of-00019.safetensors:  94%|#########4| 4.69G/4.98G [00:00<?, ?B/s]"
      ]
     },
     "metadata": {},
     "output_type": "display_data"
    },
    {
     "data": {
      "application/vnd.jupyter.widget-view+json": {
       "model_id": "9e73aa3042924d0690aeba39cc62e609",
       "version_major": 2,
       "version_minor": 0
      },
      "text/plain": [
       "model-00015-of-00019.safetensors:  79%|#######8  | 3.93G/4.98G [00:00<?, ?B/s]"
      ]
     },
     "metadata": {},
     "output_type": "display_data"
    },
    {
     "data": {
      "application/vnd.jupyter.widget-view+json": {
       "model_id": "8b739f080c024f9da4238f993ba6a7b8",
       "version_major": 2,
       "version_minor": 0
      },
      "text/plain": [
       "model-00010-of-00019.safetensors:  84%|########3 | 4.10G/4.90G [00:00<?, ?B/s]"
      ]
     },
     "metadata": {},
     "output_type": "display_data"
    },
    {
     "data": {
      "application/vnd.jupyter.widget-view+json": {
       "model_id": "bb8eceeacbf4477da73ac298e6b72ca4",
       "version_major": 2,
       "version_minor": 0
      },
      "text/plain": [
       "model-00011-of-00019.safetensors:  97%|#########7| 4.83G/4.98G [00:00<?, ?B/s]"
      ]
     },
     "metadata": {},
     "output_type": "display_data"
    },
    {
     "name": "stderr",
     "output_type": "stream",
     "text": [
      "Error while downloading from https://cdn-lfs-us-1.hf.co/repos/56/dd/56dddba94664e0d83f2b33a201ebd592ec49ebaefd116e268abfb7cc19cbdf5c/48bc12845676eab1adb3cfce7037a7ecd664a0d5f5deaf93c7362a5bb5173298?response-content-disposition=inline%3B+filename*%3DUTF-8%27%27model-00012-of-00019.safetensors%3B+filename%3D%22model-00012-of-00019.safetensors%22%3B&Expires=1742845305&Policy=eyJTdGF0ZW1lbnQiOlt7IkNvbmRpdGlvbiI6eyJEYXRlTGVzc1RoYW4iOnsiQVdTOkVwb2NoVGltZSI6MTc0Mjg0NTMwNX19LCJSZXNvdXJjZSI6Imh0dHBzOi8vY2RuLWxmcy11cy0xLmhmLmNvL3JlcG9zLzU2L2RkLzU2ZGRkYmE5NDY2NGUwZDgzZjJiMzNhMjAxZWJkNTkyZWM0OWViYWVmZDExNmUyNjhhYmZiN2NjMTljYmRmNWMvNDhiYzEyODQ1Njc2ZWFiMWFkYjNjZmNlNzAzN2E3ZWNkNjY0YTBkNWY1ZGVhZjkzYzczNjJhNWJiNTE3MzI5OD9yZXNwb25zZS1jb250ZW50LWRpc3Bvc2l0aW9uPSoifV19&Signature=pTcDhGwDqP9ctRLq%7EcpAiw4idGGKp6OjWk5Dblw0vlchzykuIVDQIay8mkiGIg9L0mZWrluNNX0Vk%7E1Qls6skNFqmuUNwAFEH44r9v8CTHPu4AcS0G7NefllXnNTNHQaLvisF2vkStHdSfuyo-8tc6VLE9MYiLWcLzoLuWitO9sLoj5sEFkU2AC1J0UVyhdZdSAvO3S8e3eSPYyHP2Pp5RX1Vds412tDNtcbs2QNxIAYhFHRHFjz6YADATiwQSz7OrhactM16y17Ui09ccl9c2S6DgTGBhpS4LY7fsVFEKretRK6sjc6rsvKg4YPYfWIRmcEfP0dyp5I6fsjYYjG7A__&Key-Pair-Id=K24J24Z295AEI9: HTTPSConnectionPool(host='cdn-lfs-us-1.hf.co', port=443): Read timed out.\n",
      "Trying to resume download...\n",
      "Error while downloading from https://cdn-lfs-us-1.hf.co/repos/56/dd/56dddba94664e0d83f2b33a201ebd592ec49ebaefd116e268abfb7cc19cbdf5c/ff24540d9967fe43c0c17cadaea7f2a34d080a2f9e58b913038b9bfd0bf8ca49?response-content-disposition=inline%3B+filename*%3DUTF-8%27%27model-00011-of-00019.safetensors%3B+filename%3D%22model-00011-of-00019.safetensors%22%3B&Expires=1742845293&Policy=eyJTdGF0ZW1lbnQiOlt7IkNvbmRpdGlvbiI6eyJEYXRlTGVzc1RoYW4iOnsiQVdTOkVwb2NoVGltZSI6MTc0Mjg0NTI5M319LCJSZXNvdXJjZSI6Imh0dHBzOi8vY2RuLWxmcy11cy0xLmhmLmNvL3JlcG9zLzU2L2RkLzU2ZGRkYmE5NDY2NGUwZDgzZjJiMzNhMjAxZWJkNTkyZWM0OWViYWVmZDExNmUyNjhhYmZiN2NjMTljYmRmNWMvZmYyNDU0MGQ5OTY3ZmU0M2MwYzE3Y2FkYWVhN2YyYTM0ZDA4MGEyZjllNThiOTEzMDM4YjliZmQwYmY4Y2E0OT9yZXNwb25zZS1jb250ZW50LWRpc3Bvc2l0aW9uPSoifV19&Signature=OHf3hX9aIOcqA87WKm5Gqo2nYf1uSfCU2Fo3ivFsxiMXUXPDkYHo%7EHp-Z5X3inPfRMqIQR5eHJHnu7OwIaQbgEztGD5iufOsKsNCyeuGXN0fVIVqG1jTi5LZLU7uX5uvlr6fyMBQlS9wgtSuI02a2sP6-jKLPNCVkQd-YtX4ikANi-TkWqjVkARCdR-3vo4VhexXTgj95M%7E03gsoHlw7XEuwpPaVd4ac9WonUaZz0QrCXIQslK6qMmS7aPgTsloUaihTB5jGgnOcEqJQ-MNCDt-7vBOZuND9WKH4Bz5wxqd8v7O%7E9MfqWnlpiAIl%7EvnAQjwvD3dCzYgXyL5UKyUD8A__&Key-Pair-Id=K24J24Z295AEI9: HTTPSConnectionPool(host='cdn-lfs-us-1.hf.co', port=443): Read timed out.\n",
      "Trying to resume download...\n",
      "Error while downloading from https://cdn-lfs-us-1.hf.co/repos/56/dd/56dddba94664e0d83f2b33a201ebd592ec49ebaefd116e268abfb7cc19cbdf5c/5882e4366c63048a0ad36ef6d90194a2fabdb42a2140be79c8e0ec2e8ac2ccc5?response-content-disposition=inline%3B+filename*%3DUTF-8%27%27model-00009-of-00019.safetensors%3B+filename%3D%22model-00009-of-00019.safetensors%22%3B&Expires=1742845254&Policy=eyJTdGF0ZW1lbnQiOlt7IkNvbmRpdGlvbiI6eyJEYXRlTGVzc1RoYW4iOnsiQVdTOkVwb2NoVGltZSI6MTc0Mjg0NTI1NH19LCJSZXNvdXJjZSI6Imh0dHBzOi8vY2RuLWxmcy11cy0xLmhmLmNvL3JlcG9zLzU2L2RkLzU2ZGRkYmE5NDY2NGUwZDgzZjJiMzNhMjAxZWJkNTkyZWM0OWViYWVmZDExNmUyNjhhYmZiN2NjMTljYmRmNWMvNTg4MmU0MzY2YzYzMDQ4YTBhZDM2ZWY2ZDkwMTk0YTJmYWJkYjQyYTIxNDBiZTc5YzhlMGVjMmU4YWMyY2NjNT9yZXNwb25zZS1jb250ZW50LWRpc3Bvc2l0aW9uPSoifV19&Signature=icj%7E0nmBcwRAbbQXBhv7aHKoa3J7Sb73M3t5hTOlU5xIEvOjQ-jgIxX1ceNhJyat-bmdhr49iDSMby18uUiwnLcRSxB%7E86pvi4QyeeYMANG05h0IF58DryjisBLS6NfJyl920hN4N9WwaaU1xqYoLeC4kfs%7EsfwT9EAqrdtNuEPYaQzeVJdHkLPSI0WvzloaFzxxYmMRRn42jvERJJ8nJJ2ZAtFS-U9nef7KrGzu7htC%7EuFrRpIzeWyKwyNiA-xqTMs7Wg68501pXOtKQMvCGRmYe5XIOlLxeaHzbHQjB4649SvhNourMBmGP7TlL1wbx7O-DxP%7EaW3z8ul24-QV0A__&Key-Pair-Id=K24J24Z295AEI9: HTTPSConnectionPool(host='cdn-lfs-us-1.hf.co', port=443): Read timed out.\n",
      "Trying to resume download...\n",
      "Error while downloading from https://cdn-lfs-us-1.hf.co/repos/56/dd/56dddba94664e0d83f2b33a201ebd592ec49ebaefd116e268abfb7cc19cbdf5c/77813d1dbee63419226ac15e4b8f28d075c3f7921cc664090236c491667eaf29?response-content-disposition=inline%3B+filename*%3DUTF-8%27%27model-00010-of-00019.safetensors%3B+filename%3D%22model-00010-of-00019.safetensors%22%3B&Expires=1742845291&Policy=eyJTdGF0ZW1lbnQiOlt7IkNvbmRpdGlvbiI6eyJEYXRlTGVzc1RoYW4iOnsiQVdTOkVwb2NoVGltZSI6MTc0Mjg0NTI5MX19LCJSZXNvdXJjZSI6Imh0dHBzOi8vY2RuLWxmcy11cy0xLmhmLmNvL3JlcG9zLzU2L2RkLzU2ZGRkYmE5NDY2NGUwZDgzZjJiMzNhMjAxZWJkNTkyZWM0OWViYWVmZDExNmUyNjhhYmZiN2NjMTljYmRmNWMvNzc4MTNkMWRiZWU2MzQxOTIyNmFjMTVlNGI4ZjI4ZDA3NWMzZjc5MjFjYzY2NDA5MDIzNmM0OTE2NjdlYWYyOT9yZXNwb25zZS1jb250ZW50LWRpc3Bvc2l0aW9uPSoifV19&Signature=HagJwIeKHfdjaQrJOHKMrrKaJOCGWM1YarBCPz438%7Ex6EaZG99gqB5zaez15zA11-4gA0DQ6c22u7G0iA9mada44QGag1YB4S8tcyXrh5L2VhIJxdd2WOZyV3noSEAQb33u9X6mqwbLwssD1V5zGZFC5Qcd-avzGTd4vvnN2CBonZI6GJOtaiNqDSgNM-mrgLw797ZzoDGB8y8MfOYh9ERE96StC1-8ZopDJENvDq2Cv27kGIbJUirCWV4x010Ui2JEOAVbTvRqub%7ER4NjGDtau-5SX7LKXx8oAMFuXW5dFrr16wB2HmTElfUodYXXmuQs5qb6aSc-eyHnJGcfQsLw__&Key-Pair-Id=K24J24Z295AEI9: HTTPSConnectionPool(host='cdn-lfs-us-1.hf.co', port=443): Read timed out.\n",
      "Trying to resume download...\n",
      "Error while downloading from https://cdn-lfs-us-1.hf.co/repos/56/dd/56dddba94664e0d83f2b33a201ebd592ec49ebaefd116e268abfb7cc19cbdf5c/e56a2e7eda699bf4ec1433bd07d7cb86488420813e66463d2e2296d7accebc5c?response-content-disposition=inline%3B+filename*%3DUTF-8%27%27model-00013-of-00019.safetensors%3B+filename%3D%22model-00013-of-00019.safetensors%22%3B&Expires=1742845335&Policy=eyJTdGF0ZW1lbnQiOlt7IkNvbmRpdGlvbiI6eyJEYXRlTGVzc1RoYW4iOnsiQVdTOkVwb2NoVGltZSI6MTc0Mjg0NTMzNX19LCJSZXNvdXJjZSI6Imh0dHBzOi8vY2RuLWxmcy11cy0xLmhmLmNvL3JlcG9zLzU2L2RkLzU2ZGRkYmE5NDY2NGUwZDgzZjJiMzNhMjAxZWJkNTkyZWM0OWViYWVmZDExNmUyNjhhYmZiN2NjMTljYmRmNWMvZTU2YTJlN2VkYTY5OWJmNGVjMTQzM2JkMDdkN2NiODY0ODg0MjA4MTNlNjY0NjNkMmUyMjk2ZDdhY2NlYmM1Yz9yZXNwb25zZS1jb250ZW50LWRpc3Bvc2l0aW9uPSoifV19&Signature=N3gJF6rt%7EVQHJlnAgoVUDjXM0BfZTCTdtwupVfaakryo-7DxxN25IgK7W9EEX7k5EMCs9V5OMG-l0GqJUQbISBNt9bfQW5PlwBSMKPkHgrboQWLm17sd6rmx-U6h4lQA-%7EuvBd%7E-nXNGfsqfKkuUj5ywHL-Rw7JRVxHRe7IFXbt59CgV%7EivoCvV24D3cDrw7u7rLE6rEMz7Bzka5wnu0-3CC%7EPRzwPbVVEj0KvC6PxwLJp569A7R5cyPg9-K9iKvhIqq3CO%7EsbPTJGkylzyCTPgXnB%7Ehwzzhct25cGVVzsCMB0uOKjZ9pfotedRVjM-a%7EQVXPQlsmgS8egY8YVlB8w__&Key-Pair-Id=K24J24Z295AEI9: HTTPSConnectionPool(host='cdn-lfs-us-1.hf.co', port=443): Read timed out.\n",
      "Trying to resume download...\n",
      "Error while downloading from https://cdn-lfs-us-1.hf.co/repos/56/dd/56dddba94664e0d83f2b33a201ebd592ec49ebaefd116e268abfb7cc19cbdf5c/61e0f22bff93a68e114dbc3d75c1dd1e6687d554dba0cfdf1743950aa04ff1cf?response-content-disposition=inline%3B+filename*%3DUTF-8%27%27model-00015-of-00019.safetensors%3B+filename%3D%22model-00015-of-00019.safetensors%22%3B&Expires=1742845445&Policy=eyJTdGF0ZW1lbnQiOlt7IkNvbmRpdGlvbiI6eyJEYXRlTGVzc1RoYW4iOnsiQVdTOkVwb2NoVGltZSI6MTc0Mjg0NTQ0NX19LCJSZXNvdXJjZSI6Imh0dHBzOi8vY2RuLWxmcy11cy0xLmhmLmNvL3JlcG9zLzU2L2RkLzU2ZGRkYmE5NDY2NGUwZDgzZjJiMzNhMjAxZWJkNTkyZWM0OWViYWVmZDExNmUyNjhhYmZiN2NjMTljYmRmNWMvNjFlMGYyMmJmZjkzYTY4ZTExNGRiYzNkNzVjMWRkMWU2Njg3ZDU1NGRiYTBjZmRmMTc0Mzk1MGFhMDRmZjFjZj9yZXNwb25zZS1jb250ZW50LWRpc3Bvc2l0aW9uPSoifV19&Signature=cuquwWG5jZ2efiHApmplVyUNtVQplfr4z1r7bnul1uvbi3u-2TNCPSOfV1CSQRMA04niqREYA0nlOy6EWoiqH0e0WWijiLQV3X71AQ5QXeVG7t91UsxpDH9O-hWcFp477JxtiADkv4BmXnfCKrvZ88pmN%7EfpUKHRcSETghukLS-ULUrtf%7E60F0nwSku%7EB7Xx1OEFrlJZTkuds1xyY2Rt7ereKLbrKzXnpJIhFuA43faogFj4y55e3jzYKSw2b7BcbFlcYJeyacSPB%7EAmLf2JBdaTsxuNvzjPjaGq1qkLCeCwuNmh2KgKCzLAchaTjXbcF7i2gnO6ZvgjphNmjIuw1Q__&Key-Pair-Id=K24J24Z295AEI9: HTTPSConnectionPool(host='cdn-lfs-us-1.hf.co', port=443): Read timed out.\n",
      "Trying to resume download...\n",
      "Error while downloading from https://cdn-lfs-us-1.hf.co/repos/56/dd/56dddba94664e0d83f2b33a201ebd592ec49ebaefd116e268abfb7cc19cbdf5c/da627f6a3c8fdc6e35b9918d2aa53704d4044191fcc86c7c0b1ac57f00e707f7?response-content-disposition=inline%3B+filename*%3DUTF-8%27%27model-00014-of-00019.safetensors%3B+filename%3D%22model-00014-of-00019.safetensors%22%3B&Expires=1742845353&Policy=eyJTdGF0ZW1lbnQiOlt7IkNvbmRpdGlvbiI6eyJEYXRlTGVzc1RoYW4iOnsiQVdTOkVwb2NoVGltZSI6MTc0Mjg0NTM1M319LCJSZXNvdXJjZSI6Imh0dHBzOi8vY2RuLWxmcy11cy0xLmhmLmNvL3JlcG9zLzU2L2RkLzU2ZGRkYmE5NDY2NGUwZDgzZjJiMzNhMjAxZWJkNTkyZWM0OWViYWVmZDExNmUyNjhhYmZiN2NjMTljYmRmNWMvZGE2MjdmNmEzYzhmZGM2ZTM1Yjk5MThkMmFhNTM3MDRkNDA0NDE5MWZjYzg2YzdjMGIxYWM1N2YwMGU3MDdmNz9yZXNwb25zZS1jb250ZW50LWRpc3Bvc2l0aW9uPSoifV19&Signature=TxuqYK0qWTWufsjt%7ETTgkuHt8fyuQXGTPfQvb%7ES5tpQCSbRldT5XqDbgh9Jl1XjWLkOclKZ3I89-VbX8orpwpCJzak2CH28JEdh%7Egg2uBxj5CY5daHvH6TxyT1kFIxPEcv5OgNHVGKMsi3Rm9RM7pcfa-hePWCJmgcegznmuSsc%7E8rS2eCp7unTknwM5VuuOT97b6qtvhPOYfAkAtUKFEb9BbiV4rJIHr0wd3fFWt7UPh0g-U7NXtZbcE3RAqVk5J9rB9SjKNKeXZH5B55YIQLDNA8M1KemstOUUj9I-3IWOAUwdYbMxtDMJ9qmL9%7EIwYHzvn2ha3A5MTgP11dBoqQ__&Key-Pair-Id=K24J24Z295AEI9: HTTPSConnectionPool(host='cdn-lfs-us-1.hf.co', port=443): Read timed out.\n",
      "Trying to resume download...\n",
      "Error while downloading from https://cdn-lfs-us-1.hf.co/repos/56/dd/56dddba94664e0d83f2b33a201ebd592ec49ebaefd116e268abfb7cc19cbdf5c/76466bfc2312f11559480981f212e4cca6e98096bf8df0fd90cce1f0f4709a9c?response-content-disposition=inline%3B+filename*%3DUTF-8%27%27model-00016-of-00019.safetensors%3B+filename%3D%22model-00016-of-00019.safetensors%22%3B&Expires=1742845468&Policy=eyJTdGF0ZW1lbnQiOlt7IkNvbmRpdGlvbiI6eyJEYXRlTGVzc1RoYW4iOnsiQVdTOkVwb2NoVGltZSI6MTc0Mjg0NTQ2OH19LCJSZXNvdXJjZSI6Imh0dHBzOi8vY2RuLWxmcy11cy0xLmhmLmNvL3JlcG9zLzU2L2RkLzU2ZGRkYmE5NDY2NGUwZDgzZjJiMzNhMjAxZWJkNTkyZWM0OWViYWVmZDExNmUyNjhhYmZiN2NjMTljYmRmNWMvNzY0NjZiZmMyMzEyZjExNTU5NDgwOTgxZjIxMmU0Y2NhNmU5ODA5NmJmOGRmMGZkOTBjY2UxZjBmNDcwOWE5Yz9yZXNwb25zZS1jb250ZW50LWRpc3Bvc2l0aW9uPSoifV19&Signature=F1sZlcJNNpOgGtQE-xPihL5GOg34CJA%7Em1pH9ODJNm5L94rDFuj3wGppGoghYMYnYWsTis-Kn951RQWk39H1B76wNaoL8%7EqIMTTdpd0V3hAG5eXIntigbdyJkWNAsXlcSSH8cXmnzIjfHLNO9g%7EQiGXlgYLdS02SV3Ok5l5FhoI%7EQz4sGKRRbNskT-Jt1gkSudWz4i87WOEUZka4tj3ZZiW%7EH9VRzfmEUbjgxlYZaW-LKCGxe2UjX4lUJLPp6N5BWjJd%7E0%7ErW-P8y0MR5vNh0HhDWpm3atRoKTVBn7Rn5vUZmjQ6RCjptdFtQXE4sj5v9I%7EdSsHiQ6tP6HbsCovO7A__&Key-Pair-Id=K24J24Z295AEI9: HTTPSConnectionPool(host='cdn-lfs-us-1.hf.co', port=443): Read timed out.\n",
      "Trying to resume download...\n"
     ]
    },
    {
     "data": {
      "application/vnd.jupyter.widget-view+json": {
       "model_id": "70ee987992744bf08eee9d1e96a3ab70",
       "version_major": 2,
       "version_minor": 0
      },
      "text/plain": [
       "model-00012-of-00019.safetensors:  86%|########6 | 4.31G/4.98G [00:00<?, ?B/s]"
      ]
     },
     "metadata": {},
     "output_type": "display_data"
    },
    {
     "data": {
      "application/vnd.jupyter.widget-view+json": {
       "model_id": "8230730c73154075a453de5d8b3f38c2",
       "version_major": 2,
       "version_minor": 0
      },
      "text/plain": [
       "model-00011-of-00019.safetensors:  98%|#########8| 4.91G/4.98G [00:00<?, ?B/s]"
      ]
     },
     "metadata": {},
     "output_type": "display_data"
    },
    {
     "data": {
      "application/vnd.jupyter.widget-view+json": {
       "model_id": "0340c0aa353346bb9e74fb90f12eed51",
       "version_major": 2,
       "version_minor": 0
      },
      "text/plain": [
       "model-00010-of-00019.safetensors:  84%|########4 | 4.12G/4.90G [00:00<?, ?B/s]"
      ]
     },
     "metadata": {},
     "output_type": "display_data"
    },
    {
     "data": {
      "application/vnd.jupyter.widget-view+json": {
       "model_id": "a0a01fb5e42f40d591b5e4aa54f6aa97",
       "version_major": 2,
       "version_minor": 0
      },
      "text/plain": [
       "model-00013-of-00019.safetensors:  65%|######5   | 3.26G/4.98G [00:00<?, ?B/s]"
      ]
     },
     "metadata": {},
     "output_type": "display_data"
    },
    {
     "data": {
      "application/vnd.jupyter.widget-view+json": {
       "model_id": "1b30f7126acc4f208f13e5a831389359",
       "version_major": 2,
       "version_minor": 0
      },
      "text/plain": [
       "model-00015-of-00019.safetensors:  80%|#######9  | 3.97G/4.98G [00:00<?, ?B/s]"
      ]
     },
     "metadata": {},
     "output_type": "display_data"
    },
    {
     "data": {
      "application/vnd.jupyter.widget-view+json": {
       "model_id": "a54472ee11a34b99914d1f4fcfca29ca",
       "version_major": 2,
       "version_minor": 0
      },
      "text/plain": [
       "model-00014-of-00019.safetensors:  96%|#########6| 4.72G/4.90G [00:00<?, ?B/s]"
      ]
     },
     "metadata": {},
     "output_type": "display_data"
    },
    {
     "data": {
      "application/vnd.jupyter.widget-view+json": {
       "model_id": "95f6322f8e15426392ea80b3475d8eff",
       "version_major": 2,
       "version_minor": 0
      },
      "text/plain": [
       "model-00016-of-00019.safetensors:  65%|######4   | 3.23G/4.98G [00:00<?, ?B/s]"
      ]
     },
     "metadata": {},
     "output_type": "display_data"
    },
    {
     "data": {
      "application/vnd.jupyter.widget-view+json": {
       "model_id": "279f96016fa749d49800d1291980684d",
       "version_major": 2,
       "version_minor": 0
      },
      "text/plain": [
       "model-00009-of-00019.safetensors:  94%|#########4| 4.71G/4.98G [00:00<?, ?B/s]"
      ]
     },
     "metadata": {},
     "output_type": "display_data"
    },
    {
     "data": {
      "application/vnd.jupyter.widget-view+json": {
       "model_id": "b1b4059d4c4b40019abfa40f02b5d9e2",
       "version_major": 2,
       "version_minor": 0
      },
      "text/plain": [
       "model-00017-of-00019.safetensors:   0%|          | 0.00/4.90G [00:00<?, ?B/s]"
      ]
     },
     "metadata": {},
     "output_type": "display_data"
    },
    {
     "data": {
      "application/vnd.jupyter.widget-view+json": {
       "model_id": "031f4c1b53ca4b1d87668e5bdff7b67f",
       "version_major": 2,
       "version_minor": 0
      },
      "text/plain": [
       "model-00018-of-00019.safetensors:   0%|          | 0.00/4.98G [00:00<?, ?B/s]"
      ]
     },
     "metadata": {},
     "output_type": "display_data"
    },
    {
     "data": {
      "application/vnd.jupyter.widget-view+json": {
       "model_id": "bea6ff4c42204d2ca4f79c0b26be109c",
       "version_major": 2,
       "version_minor": 0
      },
      "text/plain": [
       "model-00019-of-00019.safetensors:   0%|          | 0.00/4.22G [00:00<?, ?B/s]"
      ]
     },
     "metadata": {},
     "output_type": "display_data"
    },
    {
     "name": "stderr",
     "output_type": "stream",
     "text": [
      "Error while downloading from https://cdn-lfs-us-1.hf.co/repos/56/dd/56dddba94664e0d83f2b33a201ebd592ec49ebaefd116e268abfb7cc19cbdf5c/4c603b65cbd5ddadcd5ece8add68b9d47f98f7264dbb0a5313172c78491e0329?response-content-disposition=inline%3B+filename*%3DUTF-8%27%27model-00018-of-00019.safetensors%3B+filename%3D%22model-00018-of-00019.safetensors%22%3B&Expires=1742846322&Policy=eyJTdGF0ZW1lbnQiOlt7IkNvbmRpdGlvbiI6eyJEYXRlTGVzc1RoYW4iOnsiQVdTOkVwb2NoVGltZSI6MTc0Mjg0NjMyMn19LCJSZXNvdXJjZSI6Imh0dHBzOi8vY2RuLWxmcy11cy0xLmhmLmNvL3JlcG9zLzU2L2RkLzU2ZGRkYmE5NDY2NGUwZDgzZjJiMzNhMjAxZWJkNTkyZWM0OWViYWVmZDExNmUyNjhhYmZiN2NjMTljYmRmNWMvNGM2MDNiNjVjYmQ1ZGRhZGNkNWVjZThhZGQ2OGI5ZDQ3Zjk4ZjcyNjRkYmIwYTUzMTMxNzJjNzg0OTFlMDMyOT9yZXNwb25zZS1jb250ZW50LWRpc3Bvc2l0aW9uPSoifV19&Signature=VUXHC3jeBX5fF9oh8D8M%7EupoGL%7EzDuv-aNV7jfDVNoUeD4YEobzAfBhWRL6a8BIVvMqyUmYl30QYhPrJ-ePDZFDjJrYvwfuRg1It7XAochgcGorY2xPLJO8QyVTncQfmTA-cdvVqV%7EjlYn9gx4Lrmzv%7EciI7YbWYqKr2xa0bmkIDd5sBj5pdy-PlpCByyA7RUUFCfz44Pi7cKzhuQXEaOfNQLM7MYKxYrvrqsyALnf1NoN60bAeIDAKxm0mAs1LnFxxZimXq3N1MH3Oy8c1m8Q7MbyG3zGvzIJshxVU6M0uqjlBdST49x6%7EbRcvY7nFtitU0JwyEIgq4EqiY2jS6pQ__&Key-Pair-Id=K24J24Z295AEI9: HTTPSConnectionPool(host='cdn-lfs-us-1.hf.co', port=443): Read timed out.\n",
      "Trying to resume download...\n",
      "Error while downloading from https://cdn-lfs-us-1.hf.co/repos/56/dd/56dddba94664e0d83f2b33a201ebd592ec49ebaefd116e268abfb7cc19cbdf5c/61e0f22bff93a68e114dbc3d75c1dd1e6687d554dba0cfdf1743950aa04ff1cf?response-content-disposition=inline%3B+filename*%3DUTF-8%27%27model-00015-of-00019.safetensors%3B+filename%3D%22model-00015-of-00019.safetensors%22%3B&Expires=1742845445&Policy=eyJTdGF0ZW1lbnQiOlt7IkNvbmRpdGlvbiI6eyJEYXRlTGVzc1RoYW4iOnsiQVdTOkVwb2NoVGltZSI6MTc0Mjg0NTQ0NX19LCJSZXNvdXJjZSI6Imh0dHBzOi8vY2RuLWxmcy11cy0xLmhmLmNvL3JlcG9zLzU2L2RkLzU2ZGRkYmE5NDY2NGUwZDgzZjJiMzNhMjAxZWJkNTkyZWM0OWViYWVmZDExNmUyNjhhYmZiN2NjMTljYmRmNWMvNjFlMGYyMmJmZjkzYTY4ZTExNGRiYzNkNzVjMWRkMWU2Njg3ZDU1NGRiYTBjZmRmMTc0Mzk1MGFhMDRmZjFjZj9yZXNwb25zZS1jb250ZW50LWRpc3Bvc2l0aW9uPSoifV19&Signature=cuquwWG5jZ2efiHApmplVyUNtVQplfr4z1r7bnul1uvbi3u-2TNCPSOfV1CSQRMA04niqREYA0nlOy6EWoiqH0e0WWijiLQV3X71AQ5QXeVG7t91UsxpDH9O-hWcFp477JxtiADkv4BmXnfCKrvZ88pmN%7EfpUKHRcSETghukLS-ULUrtf%7E60F0nwSku%7EB7Xx1OEFrlJZTkuds1xyY2Rt7ereKLbrKzXnpJIhFuA43faogFj4y55e3jzYKSw2b7BcbFlcYJeyacSPB%7EAmLf2JBdaTsxuNvzjPjaGq1qkLCeCwuNmh2KgKCzLAchaTjXbcF7i2gnO6ZvgjphNmjIuw1Q__&Key-Pair-Id=K24J24Z295AEI9: HTTPSConnectionPool(host='cdn-lfs-us-1.hf.co', port=443): Read timed out.\n",
      "Trying to resume download...\n",
      "Error while downloading from https://cdn-lfs-us-1.hf.co/repos/56/dd/56dddba94664e0d83f2b33a201ebd592ec49ebaefd116e268abfb7cc19cbdf5c/570af3b802bedc0d54d0481d124f63d449dda40a4294a82a39f8dc3704057a5c?response-content-disposition=inline%3B+filename*%3DUTF-8%27%27model-00017-of-00019.safetensors%3B+filename%3D%22model-00017-of-00019.safetensors%22%3B&Expires=1742846294&Policy=eyJTdGF0ZW1lbnQiOlt7IkNvbmRpdGlvbiI6eyJEYXRlTGVzc1RoYW4iOnsiQVdTOkVwb2NoVGltZSI6MTc0Mjg0NjI5NH19LCJSZXNvdXJjZSI6Imh0dHBzOi8vY2RuLWxmcy11cy0xLmhmLmNvL3JlcG9zLzU2L2RkLzU2ZGRkYmE5NDY2NGUwZDgzZjJiMzNhMjAxZWJkNTkyZWM0OWViYWVmZDExNmUyNjhhYmZiN2NjMTljYmRmNWMvNTcwYWYzYjgwMmJlZGMwZDU0ZDA0ODFkMTI0ZjYzZDQ0OWRkYTQwYTQyOTRhODJhMzlmOGRjMzcwNDA1N2E1Yz9yZXNwb25zZS1jb250ZW50LWRpc3Bvc2l0aW9uPSoifV19&Signature=W4wJr1-NSQFVIxo%7E86gRpwhxbK9o0RkbVIoMWBb0PG7P02MFLcPaYhF9PZ-JnJ9wAKI2Om7VV72jxMU2iZZREv%7El0N04uPSY5q9b3gChVpLIkiQt3gP7ndb1yU0vZcareYX46b7G779H70x2VpNxkjsUZCTmoeqast38jD%7ESf6hAJL8Kadr9F9XBlt-5XEbfd5Nx9sc51J-6-3xvdKbwaLLa8bakietiUeqB55XowBT2buAwkbkCm6PxX2HFRCiKHXlL2nfuwOTRX4S8NTbNeg4PddblslfFidW-RBxvmzbJjYQaZRcBzwpcquaCl9KuxwEazL8Bq9i6r2NV7WDTNQ__&Key-Pair-Id=K24J24Z295AEI9: HTTPSConnectionPool(host='cdn-lfs-us-1.hf.co', port=443): Read timed out.\n",
      "Trying to resume download...\n",
      "Error while downloading from https://cdn-lfs-us-1.hf.co/repos/56/dd/56dddba94664e0d83f2b33a201ebd592ec49ebaefd116e268abfb7cc19cbdf5c/76466bfc2312f11559480981f212e4cca6e98096bf8df0fd90cce1f0f4709a9c?response-content-disposition=inline%3B+filename*%3DUTF-8%27%27model-00016-of-00019.safetensors%3B+filename%3D%22model-00016-of-00019.safetensors%22%3B&Expires=1742845468&Policy=eyJTdGF0ZW1lbnQiOlt7IkNvbmRpdGlvbiI6eyJEYXRlTGVzc1RoYW4iOnsiQVdTOkVwb2NoVGltZSI6MTc0Mjg0NTQ2OH19LCJSZXNvdXJjZSI6Imh0dHBzOi8vY2RuLWxmcy11cy0xLmhmLmNvL3JlcG9zLzU2L2RkLzU2ZGRkYmE5NDY2NGUwZDgzZjJiMzNhMjAxZWJkNTkyZWM0OWViYWVmZDExNmUyNjhhYmZiN2NjMTljYmRmNWMvNzY0NjZiZmMyMzEyZjExNTU5NDgwOTgxZjIxMmU0Y2NhNmU5ODA5NmJmOGRmMGZkOTBjY2UxZjBmNDcwOWE5Yz9yZXNwb25zZS1jb250ZW50LWRpc3Bvc2l0aW9uPSoifV19&Signature=F1sZlcJNNpOgGtQE-xPihL5GOg34CJA%7Em1pH9ODJNm5L94rDFuj3wGppGoghYMYnYWsTis-Kn951RQWk39H1B76wNaoL8%7EqIMTTdpd0V3hAG5eXIntigbdyJkWNAsXlcSSH8cXmnzIjfHLNO9g%7EQiGXlgYLdS02SV3Ok5l5FhoI%7EQz4sGKRRbNskT-Jt1gkSudWz4i87WOEUZka4tj3ZZiW%7EH9VRzfmEUbjgxlYZaW-LKCGxe2UjX4lUJLPp6N5BWjJd%7E0%7ErW-P8y0MR5vNh0HhDWpm3atRoKTVBn7Rn5vUZmjQ6RCjptdFtQXE4sj5v9I%7EdSsHiQ6tP6HbsCovO7A__&Key-Pair-Id=K24J24Z295AEI9: HTTPSConnectionPool(host='cdn-lfs-us-1.hf.co', port=443): Read timed out.\n",
      "Trying to resume download...\n",
      "Error while downloading from https://cdn-lfs-us-1.hf.co/repos/56/dd/56dddba94664e0d83f2b33a201ebd592ec49ebaefd116e268abfb7cc19cbdf5c/272f33c76bcacf6cfced497dc0579e107de3874b9f93126f5e69b5b1ae7e72a0?response-content-disposition=inline%3B+filename*%3DUTF-8%27%27model-00019-of-00019.safetensors%3B+filename%3D%22model-00019-of-00019.safetensors%22%3B&Expires=1742846356&Policy=eyJTdGF0ZW1lbnQiOlt7IkNvbmRpdGlvbiI6eyJEYXRlTGVzc1RoYW4iOnsiQVdTOkVwb2NoVGltZSI6MTc0Mjg0NjM1Nn19LCJSZXNvdXJjZSI6Imh0dHBzOi8vY2RuLWxmcy11cy0xLmhmLmNvL3JlcG9zLzU2L2RkLzU2ZGRkYmE5NDY2NGUwZDgzZjJiMzNhMjAxZWJkNTkyZWM0OWViYWVmZDExNmUyNjhhYmZiN2NjMTljYmRmNWMvMjcyZjMzYzc2YmNhY2Y2Y2ZjZWQ0OTdkYzA1NzllMTA3ZGUzODc0YjlmOTMxMjZmNWU2OWI1YjFhZTdlNzJhMD9yZXNwb25zZS1jb250ZW50LWRpc3Bvc2l0aW9uPSoifV19&Signature=f6CVYbwVzS89J94o5GCgBrOdrDeUx8s7aw-T27wXubKCSipwrSTnFm2RSx%7EtvQuiaT38AQqTJoVDOgfGLmrOG5Gc1m5JE7fV5Hwpyjif4UHygmNsgRWyqSgzJU7d%7EFKRsKO1GbW48peKfNQk9VHbIkt5vdk1wIrOzqi5JhCt184CGACMD8IHg2XurUz4wIoMHrfevFFSESmkybG-jqdMwfAVFi2yKKAjBLcveLE8ZFO%7EQkkl-d-2vKXTcGKUoqBI6bO5HwDyULpExNQsBj4KAAqR7PhVpgd9AiZMEaVklWQ0owYLKL4jYJc49RG8-0fCdZdVRk8xMa2xGOM5uRTF9w__&Key-Pair-Id=K24J24Z295AEI9: HTTPSConnectionPool(host='cdn-lfs-us-1.hf.co', port=443): Read timed out.\n",
      "Trying to resume download...\n"
     ]
    },
    {
     "data": {
      "application/vnd.jupyter.widget-view+json": {
       "model_id": "888309f1d5b0477a89d58e46bc0b8330",
       "version_major": 2,
       "version_minor": 0
      },
      "text/plain": [
       "model-00019-of-00019.safetensors:  30%|##9       | 1.26G/4.22G [00:00<?, ?B/s]"
      ]
     },
     "metadata": {},
     "output_type": "display_data"
    },
    {
     "data": {
      "application/vnd.jupyter.widget-view+json": {
       "model_id": "54f9c5d802c841ecbdc1f79fbbc21e80",
       "version_major": 2,
       "version_minor": 0
      },
      "text/plain": [
       "model-00016-of-00019.safetensors:  97%|#########6| 4.81G/4.98G [00:00<?, ?B/s]"
      ]
     },
     "metadata": {},
     "output_type": "display_data"
    },
    {
     "data": {
      "application/vnd.jupyter.widget-view+json": {
       "model_id": "debf929bcf614070b8b12fc00933bf9f",
       "version_major": 2,
       "version_minor": 0
      },
      "text/plain": [
       "model-00017-of-00019.safetensors:  20%|##        | 986M/4.90G [00:00<?, ?B/s]"
      ]
     },
     "metadata": {},
     "output_type": "display_data"
    },
    {
     "data": {
      "application/vnd.jupyter.widget-view+json": {
       "model_id": "8c62c183c7294a9cafe22c0833f9ab3a",
       "version_major": 2,
       "version_minor": 0
      },
      "text/plain": [
       "model-00018-of-00019.safetensors:  26%|##5       | 1.29G/4.98G [00:00<?, ?B/s]"
      ]
     },
     "metadata": {},
     "output_type": "display_data"
    },
    {
     "data": {
      "application/vnd.jupyter.widget-view+json": {
       "model_id": "9776d9fdd918439b8ada324c9793cca6",
       "version_major": 2,
       "version_minor": 0
      },
      "text/plain": [
       "model-00015-of-00019.safetensors:  94%|#########4| 4.71G/4.98G [00:00<?, ?B/s]"
      ]
     },
     "metadata": {},
     "output_type": "display_data"
    },
    {
     "name": "stderr",
     "output_type": "stream",
     "text": [
      "Error while downloading from https://cdn-lfs-us-1.hf.co/repos/56/dd/56dddba94664e0d83f2b33a201ebd592ec49ebaefd116e268abfb7cc19cbdf5c/76466bfc2312f11559480981f212e4cca6e98096bf8df0fd90cce1f0f4709a9c?response-content-disposition=inline%3B+filename*%3DUTF-8%27%27model-00016-of-00019.safetensors%3B+filename%3D%22model-00016-of-00019.safetensors%22%3B&Expires=1742845468&Policy=eyJTdGF0ZW1lbnQiOlt7IkNvbmRpdGlvbiI6eyJEYXRlTGVzc1RoYW4iOnsiQVdTOkVwb2NoVGltZSI6MTc0Mjg0NTQ2OH19LCJSZXNvdXJjZSI6Imh0dHBzOi8vY2RuLWxmcy11cy0xLmhmLmNvL3JlcG9zLzU2L2RkLzU2ZGRkYmE5NDY2NGUwZDgzZjJiMzNhMjAxZWJkNTkyZWM0OWViYWVmZDExNmUyNjhhYmZiN2NjMTljYmRmNWMvNzY0NjZiZmMyMzEyZjExNTU5NDgwOTgxZjIxMmU0Y2NhNmU5ODA5NmJmOGRmMGZkOTBjY2UxZjBmNDcwOWE5Yz9yZXNwb25zZS1jb250ZW50LWRpc3Bvc2l0aW9uPSoifV19&Signature=F1sZlcJNNpOgGtQE-xPihL5GOg34CJA%7Em1pH9ODJNm5L94rDFuj3wGppGoghYMYnYWsTis-Kn951RQWk39H1B76wNaoL8%7EqIMTTdpd0V3hAG5eXIntigbdyJkWNAsXlcSSH8cXmnzIjfHLNO9g%7EQiGXlgYLdS02SV3Ok5l5FhoI%7EQz4sGKRRbNskT-Jt1gkSudWz4i87WOEUZka4tj3ZZiW%7EH9VRzfmEUbjgxlYZaW-LKCGxe2UjX4lUJLPp6N5BWjJd%7E0%7ErW-P8y0MR5vNh0HhDWpm3atRoKTVBn7Rn5vUZmjQ6RCjptdFtQXE4sj5v9I%7EdSsHiQ6tP6HbsCovO7A__&Key-Pair-Id=K24J24Z295AEI9: HTTPSConnectionPool(host='cdn-lfs-us-1.hf.co', port=443): Read timed out.\n",
      "Trying to resume download...\n",
      "Error while downloading from https://cdn-lfs-us-1.hf.co/repos/56/dd/56dddba94664e0d83f2b33a201ebd592ec49ebaefd116e268abfb7cc19cbdf5c/570af3b802bedc0d54d0481d124f63d449dda40a4294a82a39f8dc3704057a5c?response-content-disposition=inline%3B+filename*%3DUTF-8%27%27model-00017-of-00019.safetensors%3B+filename%3D%22model-00017-of-00019.safetensors%22%3B&Expires=1742846294&Policy=eyJTdGF0ZW1lbnQiOlt7IkNvbmRpdGlvbiI6eyJEYXRlTGVzc1RoYW4iOnsiQVdTOkVwb2NoVGltZSI6MTc0Mjg0NjI5NH19LCJSZXNvdXJjZSI6Imh0dHBzOi8vY2RuLWxmcy11cy0xLmhmLmNvL3JlcG9zLzU2L2RkLzU2ZGRkYmE5NDY2NGUwZDgzZjJiMzNhMjAxZWJkNTkyZWM0OWViYWVmZDExNmUyNjhhYmZiN2NjMTljYmRmNWMvNTcwYWYzYjgwMmJlZGMwZDU0ZDA0ODFkMTI0ZjYzZDQ0OWRkYTQwYTQyOTRhODJhMzlmOGRjMzcwNDA1N2E1Yz9yZXNwb25zZS1jb250ZW50LWRpc3Bvc2l0aW9uPSoifV19&Signature=W4wJr1-NSQFVIxo%7E86gRpwhxbK9o0RkbVIoMWBb0PG7P02MFLcPaYhF9PZ-JnJ9wAKI2Om7VV72jxMU2iZZREv%7El0N04uPSY5q9b3gChVpLIkiQt3gP7ndb1yU0vZcareYX46b7G779H70x2VpNxkjsUZCTmoeqast38jD%7ESf6hAJL8Kadr9F9XBlt-5XEbfd5Nx9sc51J-6-3xvdKbwaLLa8bakietiUeqB55XowBT2buAwkbkCm6PxX2HFRCiKHXlL2nfuwOTRX4S8NTbNeg4PddblslfFidW-RBxvmzbJjYQaZRcBzwpcquaCl9KuxwEazL8Bq9i6r2NV7WDTNQ__&Key-Pair-Id=K24J24Z295AEI9: HTTPSConnectionPool(host='cdn-lfs-us-1.hf.co', port=443): Read timed out.\n",
      "Trying to resume download...\n",
      "Error while downloading from https://cdn-lfs-us-1.hf.co/repos/56/dd/56dddba94664e0d83f2b33a201ebd592ec49ebaefd116e268abfb7cc19cbdf5c/4c603b65cbd5ddadcd5ece8add68b9d47f98f7264dbb0a5313172c78491e0329?response-content-disposition=inline%3B+filename*%3DUTF-8%27%27model-00018-of-00019.safetensors%3B+filename%3D%22model-00018-of-00019.safetensors%22%3B&Expires=1742846322&Policy=eyJTdGF0ZW1lbnQiOlt7IkNvbmRpdGlvbiI6eyJEYXRlTGVzc1RoYW4iOnsiQVdTOkVwb2NoVGltZSI6MTc0Mjg0NjMyMn19LCJSZXNvdXJjZSI6Imh0dHBzOi8vY2RuLWxmcy11cy0xLmhmLmNvL3JlcG9zLzU2L2RkLzU2ZGRkYmE5NDY2NGUwZDgzZjJiMzNhMjAxZWJkNTkyZWM0OWViYWVmZDExNmUyNjhhYmZiN2NjMTljYmRmNWMvNGM2MDNiNjVjYmQ1ZGRhZGNkNWVjZThhZGQ2OGI5ZDQ3Zjk4ZjcyNjRkYmIwYTUzMTMxNzJjNzg0OTFlMDMyOT9yZXNwb25zZS1jb250ZW50LWRpc3Bvc2l0aW9uPSoifV19&Signature=VUXHC3jeBX5fF9oh8D8M%7EupoGL%7EzDuv-aNV7jfDVNoUeD4YEobzAfBhWRL6a8BIVvMqyUmYl30QYhPrJ-ePDZFDjJrYvwfuRg1It7XAochgcGorY2xPLJO8QyVTncQfmTA-cdvVqV%7EjlYn9gx4Lrmzv%7EciI7YbWYqKr2xa0bmkIDd5sBj5pdy-PlpCByyA7RUUFCfz44Pi7cKzhuQXEaOfNQLM7MYKxYrvrqsyALnf1NoN60bAeIDAKxm0mAs1LnFxxZimXq3N1MH3Oy8c1m8Q7MbyG3zGvzIJshxVU6M0uqjlBdST49x6%7EbRcvY7nFtitU0JwyEIgq4EqiY2jS6pQ__&Key-Pair-Id=K24J24Z295AEI9: HTTPSConnectionPool(host='cdn-lfs-us-1.hf.co', port=443): Read timed out.\n",
      "Trying to resume download...\n",
      "Error while downloading from https://cdn-lfs-us-1.hf.co/repos/56/dd/56dddba94664e0d83f2b33a201ebd592ec49ebaefd116e268abfb7cc19cbdf5c/272f33c76bcacf6cfced497dc0579e107de3874b9f93126f5e69b5b1ae7e72a0?response-content-disposition=inline%3B+filename*%3DUTF-8%27%27model-00019-of-00019.safetensors%3B+filename%3D%22model-00019-of-00019.safetensors%22%3B&Expires=1742846356&Policy=eyJTdGF0ZW1lbnQiOlt7IkNvbmRpdGlvbiI6eyJEYXRlTGVzc1RoYW4iOnsiQVdTOkVwb2NoVGltZSI6MTc0Mjg0NjM1Nn19LCJSZXNvdXJjZSI6Imh0dHBzOi8vY2RuLWxmcy11cy0xLmhmLmNvL3JlcG9zLzU2L2RkLzU2ZGRkYmE5NDY2NGUwZDgzZjJiMzNhMjAxZWJkNTkyZWM0OWViYWVmZDExNmUyNjhhYmZiN2NjMTljYmRmNWMvMjcyZjMzYzc2YmNhY2Y2Y2ZjZWQ0OTdkYzA1NzllMTA3ZGUzODc0YjlmOTMxMjZmNWU2OWI1YjFhZTdlNzJhMD9yZXNwb25zZS1jb250ZW50LWRpc3Bvc2l0aW9uPSoifV19&Signature=f6CVYbwVzS89J94o5GCgBrOdrDeUx8s7aw-T27wXubKCSipwrSTnFm2RSx%7EtvQuiaT38AQqTJoVDOgfGLmrOG5Gc1m5JE7fV5Hwpyjif4UHygmNsgRWyqSgzJU7d%7EFKRsKO1GbW48peKfNQk9VHbIkt5vdk1wIrOzqi5JhCt184CGACMD8IHg2XurUz4wIoMHrfevFFSESmkybG-jqdMwfAVFi2yKKAjBLcveLE8ZFO%7EQkkl-d-2vKXTcGKUoqBI6bO5HwDyULpExNQsBj4KAAqR7PhVpgd9AiZMEaVklWQ0owYLKL4jYJc49RG8-0fCdZdVRk8xMa2xGOM5uRTF9w__&Key-Pair-Id=K24J24Z295AEI9: HTTPSConnectionPool(host='cdn-lfs-us-1.hf.co', port=443): Read timed out.\n",
      "Trying to resume download...\n",
      "Error while downloading from https://cdn-lfs-us-1.hf.co/repos/56/dd/56dddba94664e0d83f2b33a201ebd592ec49ebaefd116e268abfb7cc19cbdf5c/61e0f22bff93a68e114dbc3d75c1dd1e6687d554dba0cfdf1743950aa04ff1cf?response-content-disposition=inline%3B+filename*%3DUTF-8%27%27model-00015-of-00019.safetensors%3B+filename%3D%22model-00015-of-00019.safetensors%22%3B&Expires=1742845445&Policy=eyJTdGF0ZW1lbnQiOlt7IkNvbmRpdGlvbiI6eyJEYXRlTGVzc1RoYW4iOnsiQVdTOkVwb2NoVGltZSI6MTc0Mjg0NTQ0NX19LCJSZXNvdXJjZSI6Imh0dHBzOi8vY2RuLWxmcy11cy0xLmhmLmNvL3JlcG9zLzU2L2RkLzU2ZGRkYmE5NDY2NGUwZDgzZjJiMzNhMjAxZWJkNTkyZWM0OWViYWVmZDExNmUyNjhhYmZiN2NjMTljYmRmNWMvNjFlMGYyMmJmZjkzYTY4ZTExNGRiYzNkNzVjMWRkMWU2Njg3ZDU1NGRiYTBjZmRmMTc0Mzk1MGFhMDRmZjFjZj9yZXNwb25zZS1jb250ZW50LWRpc3Bvc2l0aW9uPSoifV19&Signature=cuquwWG5jZ2efiHApmplVyUNtVQplfr4z1r7bnul1uvbi3u-2TNCPSOfV1CSQRMA04niqREYA0nlOy6EWoiqH0e0WWijiLQV3X71AQ5QXeVG7t91UsxpDH9O-hWcFp477JxtiADkv4BmXnfCKrvZ88pmN%7EfpUKHRcSETghukLS-ULUrtf%7E60F0nwSku%7EB7Xx1OEFrlJZTkuds1xyY2Rt7ereKLbrKzXnpJIhFuA43faogFj4y55e3jzYKSw2b7BcbFlcYJeyacSPB%7EAmLf2JBdaTsxuNvzjPjaGq1qkLCeCwuNmh2KgKCzLAchaTjXbcF7i2gnO6ZvgjphNmjIuw1Q__&Key-Pair-Id=K24J24Z295AEI9: HTTPSConnectionPool(host='cdn-lfs-us-1.hf.co', port=443): Read timed out.\n",
      "Trying to resume download...\n"
     ]
    },
    {
     "data": {
      "application/vnd.jupyter.widget-view+json": {
       "model_id": "2c2fd9dde8e34a8c8109ea173552425c",
       "version_major": 2,
       "version_minor": 0
      },
      "text/plain": [
       "model-00019-of-00019.safetensors:  30%|###       | 1.27G/4.22G [00:00<?, ?B/s]"
      ]
     },
     "metadata": {},
     "output_type": "display_data"
    },
    {
     "data": {
      "application/vnd.jupyter.widget-view+json": {
       "model_id": "2727f104968a46e580eb064e0661aa0f",
       "version_major": 2,
       "version_minor": 0
      },
      "text/plain": [
       "model-00015-of-00019.safetensors:  96%|#########5| 4.77G/4.98G [00:00<?, ?B/s]"
      ]
     },
     "metadata": {},
     "output_type": "display_data"
    },
    {
     "data": {
      "application/vnd.jupyter.widget-view+json": {
       "model_id": "f656343717034ae2b83bc97ddbe01f81",
       "version_major": 2,
       "version_minor": 0
      },
      "text/plain": [
       "model-00016-of-00019.safetensors:  97%|#########6| 4.82G/4.98G [00:00<?, ?B/s]"
      ]
     },
     "metadata": {},
     "output_type": "display_data"
    },
    {
     "data": {
      "application/vnd.jupyter.widget-view+json": {
       "model_id": "8189ddc7609442ee97ea377c1bb11d12",
       "version_major": 2,
       "version_minor": 0
      },
      "text/plain": [
       "model-00018-of-00019.safetensors:  27%|##6       | 1.33G/4.98G [00:00<?, ?B/s]"
      ]
     },
     "metadata": {},
     "output_type": "display_data"
    },
    {
     "data": {
      "application/vnd.jupyter.widget-view+json": {
       "model_id": "2d0ec2d6c0a04c31a3206fe369a0ef36",
       "version_major": 2,
       "version_minor": 0
      },
      "text/plain": [
       "model-00017-of-00019.safetensors:  21%|##        | 1.01G/4.90G [00:00<?, ?B/s]"
      ]
     },
     "metadata": {},
     "output_type": "display_data"
    },
    {
     "data": {
      "application/vnd.jupyter.widget-view+json": {
       "model_id": "f2d40a21b7b546159f208a9f5fdb58d9",
       "version_major": 2,
       "version_minor": 0
      },
      "text/plain": [
       "Loading checkpoint shards:   0%|          | 0/19 [00:00<?, ?it/s]"
      ]
     },
     "metadata": {},
     "output_type": "display_data"
    },
    {
     "data": {
      "application/vnd.jupyter.widget-view+json": {
       "model_id": "954356fe3cd2485b9ec23d983e659b40",
       "version_major": 2,
       "version_minor": 0
      },
      "text/plain": [
       "generation_config.json:   0%|          | 0.00/116 [00:00<?, ?B/s]"
      ]
     },
     "metadata": {},
     "output_type": "display_data"
    },
    {
     "name": "stderr",
     "output_type": "stream",
     "text": [
      "Some parameters are on the meta device because they were offloaded to the cpu.\n"
     ]
    }
   ],
   "source": [
    "from huggingface_hub import login\n",
    "\n",
    "hf_token = \"REMOVED\"  # Replace with your actual token\n",
    "login(token=hf_token)\n",
    "\n",
    "from transformers import AutoModelForCausalLM, AutoTokenizer\n",
    "\n",
    "model_name = \"mistralai/Mixtral-8x7B-Instruct-v0.1\"\n",
    "\n",
    "# Load tokenizer\n",
    "tokenizer = AutoTokenizer.from_pretrained(model_name, token=True)\n",
    "\n",
    "# Load model with token\n",
    "model = AutoModelForCausalLM.from_pretrained(\n",
    "    model_name,\n",
    "    device_map=\"auto\", \n",
    "    torch_dtype=\"auto\",\n",
    "    token=True  # Uses the previously logged-in token\n",
    ")\n"
   ]
  },
  {
   "cell_type": "code",
   "execution_count": 1,
   "metadata": {},
   "outputs": [
    {
     "name": "stderr",
     "output_type": "stream",
     "text": [
      "/home/maxim-shibanov/anaconda3/envs/vllm_env/lib/python3.10/site-packages/tqdm/auto.py:21: TqdmWarning: IProgress not found. Please update jupyter and ipywidgets. See https://ipywidgets.readthedocs.io/en/stable/user_install.html\n",
      "  from .autonotebook import tqdm as notebook_tqdm\n"
     ]
    },
    {
     "name": "stdout",
     "output_type": "stream",
     "text": [
      "INFO 03-24 20:32:24 [__init__.py:256] Automatically detected platform cuda.\n"
     ]
    },
    {
     "name": "stderr",
     "output_type": "stream",
     "text": [
      "2025-03-24 20:32:24,801\tINFO util.py:154 -- Missing packages: ['ipywidgets']. Run `pip install -U ipywidgets`, then restart the notebook server for rich notebook output.\n"
     ]
    }
   ],
   "source": [
    "import torch\n",
    "from transformers import AutoModelForCausalLM, AutoTokenizer, BitsAndBytesConfig\n",
    "from vllm import LLM, SamplingParams"
   ]
  },
  {
   "cell_type": "code",
   "execution_count": 4,
   "metadata": {},
   "outputs": [
    {
     "ename": "ImportError",
     "evalue": "Using `low_cpu_mem_usage=True`, a `device_map` or a `tp_plan` requires Accelerate: `pip install 'accelerate>=0.26.0'`",
     "output_type": "error",
     "traceback": [
      "\u001b[0;31m---------------------------------------------------------------------------\u001b[0m",
      "\u001b[0;31mImportError\u001b[0m                               Traceback (most recent call last)",
      "Cell \u001b[0;32mIn[4], line 27\u001b[0m\n\u001b[1;32m     17\u001b[0m device_map \u001b[38;5;241m=\u001b[39m {\n\u001b[1;32m     18\u001b[0m     \u001b[38;5;124m\"\u001b[39m\u001b[38;5;124mtransformer.wte\u001b[39m\u001b[38;5;124m\"\u001b[39m: \u001b[38;5;124m\"\u001b[39m\u001b[38;5;124mcpu\u001b[39m\u001b[38;5;124m\"\u001b[39m,    \u001b[38;5;66;03m# Move embeddings to CPU\u001b[39;00m\n\u001b[1;32m     19\u001b[0m     \u001b[38;5;124m\"\u001b[39m\u001b[38;5;124mtransformer.h.0\u001b[39m\u001b[38;5;124m\"\u001b[39m: \u001b[38;5;124m\"\u001b[39m\u001b[38;5;124mcpu\u001b[39m\u001b[38;5;124m\"\u001b[39m,    \u001b[38;5;66;03m# Move first few layers to CPU\u001b[39;00m\n\u001b[0;32m   (...)\u001b[0m\n\u001b[1;32m     23\u001b[0m     \u001b[38;5;124m\"\u001b[39m\u001b[38;5;124mtransformer.ln_f\u001b[39m\u001b[38;5;124m\"\u001b[39m: \u001b[38;5;124m\"\u001b[39m\u001b[38;5;124mcuda\u001b[39m\u001b[38;5;124m\"\u001b[39m   \u001b[38;5;66;03m# Keep final normalization on GPU\u001b[39;00m\n\u001b[1;32m     24\u001b[0m }\n\u001b[1;32m     26\u001b[0m \u001b[38;5;66;03m# ✅ Load Model with Paged Attention (vLLM)\u001b[39;00m\n\u001b[0;32m---> 27\u001b[0m model \u001b[38;5;241m=\u001b[39m \u001b[43mAutoModelForCausalLM\u001b[49m\u001b[38;5;241;43m.\u001b[39;49m\u001b[43mfrom_pretrained\u001b[49m\u001b[43m(\u001b[49m\n\u001b[1;32m     28\u001b[0m \u001b[43m    \u001b[49m\u001b[38;5;124;43m\"\u001b[39;49m\u001b[38;5;124;43mmistralai/Mixtral-8x7B-Instruct-v0.1\u001b[39;49m\u001b[38;5;124;43m\"\u001b[39;49m\u001b[43m,\u001b[49m\n\u001b[1;32m     29\u001b[0m \u001b[43m    \u001b[49m\u001b[43mquantization_config\u001b[49m\u001b[38;5;241;43m=\u001b[39;49m\u001b[43mquant_config\u001b[49m\u001b[43m,\u001b[49m\n\u001b[1;32m     30\u001b[0m \u001b[43m    \u001b[49m\u001b[43mattn_implementation\u001b[49m\u001b[38;5;241;43m=\u001b[39;49m\u001b[38;5;124;43m\"\u001b[39;49m\u001b[38;5;124;43mflash_attention_2\u001b[39;49m\u001b[38;5;124;43m\"\u001b[39;49m\u001b[43m,\u001b[49m\u001b[43m  \u001b[49m\u001b[38;5;66;43;03m# Enable Flash Attention\u001b[39;49;00m\n\u001b[1;32m     31\u001b[0m \u001b[43m    \u001b[49m\u001b[43mrope_scaling\u001b[49m\u001b[38;5;241;43m=\u001b[39;49m\u001b[43m{\u001b[49m\u001b[38;5;124;43m\"\u001b[39;49m\u001b[38;5;124;43mtype\u001b[39;49m\u001b[38;5;124;43m\"\u001b[39;49m\u001b[43m:\u001b[49m\u001b[43m \u001b[49m\u001b[38;5;124;43m\"\u001b[39;49m\u001b[38;5;124;43mdynamic\u001b[39;49m\u001b[38;5;124;43m\"\u001b[39;49m\u001b[43m,\u001b[49m\u001b[43m \u001b[49m\u001b[38;5;124;43m\"\u001b[39;49m\u001b[38;5;124;43mfactor\u001b[39;49m\u001b[38;5;124;43m\"\u001b[39;49m\u001b[43m:\u001b[49m\u001b[43m \u001b[49m\u001b[43mROPE_SCALING_FACTOR\u001b[49m\u001b[43m}\u001b[49m\u001b[43m,\u001b[49m\u001b[43m  \u001b[49m\u001b[38;5;66;43;03m# Scale RoPE to 64K\u001b[39;49;00m\n\u001b[1;32m     32\u001b[0m \u001b[43m    \u001b[49m\u001b[43mdevice_map\u001b[49m\u001b[38;5;241;43m=\u001b[39;49m\u001b[43mdevice_map\u001b[49m\n\u001b[1;32m     33\u001b[0m \u001b[43m)\u001b[49m\n\u001b[1;32m     35\u001b[0m \u001b[38;5;66;03m# ✅ Load Tokenizer\u001b[39;00m\n\u001b[1;32m     36\u001b[0m tokenizer \u001b[38;5;241m=\u001b[39m AutoTokenizer\u001b[38;5;241m.\u001b[39mfrom_pretrained(\u001b[38;5;124m\"\u001b[39m\u001b[38;5;124mmistralai/Mixtral-8x7B-Instruct-v0.1\u001b[39m\u001b[38;5;124m\"\u001b[39m)\n",
      "File \u001b[0;32m~/anaconda3/envs/vllm_env/lib/python3.10/site-packages/transformers/models/auto/auto_factory.py:573\u001b[0m, in \u001b[0;36m_BaseAutoModelClass.from_pretrained\u001b[0;34m(cls, pretrained_model_name_or_path, *model_args, **kwargs)\u001b[0m\n\u001b[1;32m    571\u001b[0m \u001b[38;5;28;01melif\u001b[39;00m \u001b[38;5;28mtype\u001b[39m(config) \u001b[38;5;129;01min\u001b[39;00m \u001b[38;5;28mcls\u001b[39m\u001b[38;5;241m.\u001b[39m_model_mapping\u001b[38;5;241m.\u001b[39mkeys():\n\u001b[1;32m    572\u001b[0m     model_class \u001b[38;5;241m=\u001b[39m _get_model_class(config, \u001b[38;5;28mcls\u001b[39m\u001b[38;5;241m.\u001b[39m_model_mapping)\n\u001b[0;32m--> 573\u001b[0m     \u001b[38;5;28;01mreturn\u001b[39;00m \u001b[43mmodel_class\u001b[49m\u001b[38;5;241;43m.\u001b[39;49m\u001b[43mfrom_pretrained\u001b[49m\u001b[43m(\u001b[49m\n\u001b[1;32m    574\u001b[0m \u001b[43m        \u001b[49m\u001b[43mpretrained_model_name_or_path\u001b[49m\u001b[43m,\u001b[49m\u001b[43m \u001b[49m\u001b[38;5;241;43m*\u001b[39;49m\u001b[43mmodel_args\u001b[49m\u001b[43m,\u001b[49m\u001b[43m \u001b[49m\u001b[43mconfig\u001b[49m\u001b[38;5;241;43m=\u001b[39;49m\u001b[43mconfig\u001b[49m\u001b[43m,\u001b[49m\u001b[43m \u001b[49m\u001b[38;5;241;43m*\u001b[39;49m\u001b[38;5;241;43m*\u001b[39;49m\u001b[43mhub_kwargs\u001b[49m\u001b[43m,\u001b[49m\u001b[43m \u001b[49m\u001b[38;5;241;43m*\u001b[39;49m\u001b[38;5;241;43m*\u001b[39;49m\u001b[43mkwargs\u001b[49m\n\u001b[1;32m    575\u001b[0m \u001b[43m    \u001b[49m\u001b[43m)\u001b[49m\n\u001b[1;32m    576\u001b[0m \u001b[38;5;28;01mraise\u001b[39;00m \u001b[38;5;167;01mValueError\u001b[39;00m(\n\u001b[1;32m    577\u001b[0m     \u001b[38;5;124mf\u001b[39m\u001b[38;5;124m\"\u001b[39m\u001b[38;5;124mUnrecognized configuration class \u001b[39m\u001b[38;5;132;01m{\u001b[39;00mconfig\u001b[38;5;241m.\u001b[39m\u001b[38;5;18m__class__\u001b[39m\u001b[38;5;132;01m}\u001b[39;00m\u001b[38;5;124m for this kind of AutoModel: \u001b[39m\u001b[38;5;132;01m{\u001b[39;00m\u001b[38;5;28mcls\u001b[39m\u001b[38;5;241m.\u001b[39m\u001b[38;5;18m__name__\u001b[39m\u001b[38;5;132;01m}\u001b[39;00m\u001b[38;5;124m.\u001b[39m\u001b[38;5;130;01m\\n\u001b[39;00m\u001b[38;5;124m\"\u001b[39m\n\u001b[1;32m    578\u001b[0m     \u001b[38;5;124mf\u001b[39m\u001b[38;5;124m\"\u001b[39m\u001b[38;5;124mModel type should be one of \u001b[39m\u001b[38;5;132;01m{\u001b[39;00m\u001b[38;5;124m'\u001b[39m\u001b[38;5;124m, \u001b[39m\u001b[38;5;124m'\u001b[39m\u001b[38;5;241m.\u001b[39mjoin(c\u001b[38;5;241m.\u001b[39m\u001b[38;5;18m__name__\u001b[39m\u001b[38;5;250m \u001b[39m\u001b[38;5;28;01mfor\u001b[39;00m\u001b[38;5;250m \u001b[39mc\u001b[38;5;250m \u001b[39m\u001b[38;5;129;01min\u001b[39;00m\u001b[38;5;250m \u001b[39m\u001b[38;5;28mcls\u001b[39m\u001b[38;5;241m.\u001b[39m_model_mapping\u001b[38;5;241m.\u001b[39mkeys())\u001b[38;5;132;01m}\u001b[39;00m\u001b[38;5;124m.\u001b[39m\u001b[38;5;124m\"\u001b[39m\n\u001b[1;32m    579\u001b[0m )\n",
      "File \u001b[0;32m~/anaconda3/envs/vllm_env/lib/python3.10/site-packages/transformers/modeling_utils.py:272\u001b[0m, in \u001b[0;36mrestore_default_torch_dtype.<locals>._wrapper\u001b[0;34m(*args, **kwargs)\u001b[0m\n\u001b[1;32m    270\u001b[0m old_dtype \u001b[38;5;241m=\u001b[39m torch\u001b[38;5;241m.\u001b[39mget_default_dtype()\n\u001b[1;32m    271\u001b[0m \u001b[38;5;28;01mtry\u001b[39;00m:\n\u001b[0;32m--> 272\u001b[0m     \u001b[38;5;28;01mreturn\u001b[39;00m \u001b[43mfunc\u001b[49m\u001b[43m(\u001b[49m\u001b[38;5;241;43m*\u001b[39;49m\u001b[43margs\u001b[49m\u001b[43m,\u001b[49m\u001b[43m \u001b[49m\u001b[38;5;241;43m*\u001b[39;49m\u001b[38;5;241;43m*\u001b[39;49m\u001b[43mkwargs\u001b[49m\u001b[43m)\u001b[49m\n\u001b[1;32m    273\u001b[0m \u001b[38;5;28;01mfinally\u001b[39;00m:\n\u001b[1;32m    274\u001b[0m     torch\u001b[38;5;241m.\u001b[39mset_default_dtype(old_dtype)\n",
      "File \u001b[0;32m~/anaconda3/envs/vllm_env/lib/python3.10/site-packages/transformers/modeling_utils.py:4203\u001b[0m, in \u001b[0;36mPreTrainedModel.from_pretrained\u001b[0;34m(cls, pretrained_model_name_or_path, config, cache_dir, ignore_mismatched_sizes, force_download, local_files_only, token, revision, use_safetensors, weights_only, *model_args, **kwargs)\u001b[0m\n\u001b[1;32m   4199\u001b[0m         \u001b[38;5;28;01mraise\u001b[39;00m \u001b[38;5;167;01mValueError\u001b[39;00m(\n\u001b[1;32m   4200\u001b[0m             \u001b[38;5;124m\"\u001b[39m\u001b[38;5;124mDeepSpeed Zero-3 is not compatible with `low_cpu_mem_usage=True` or with passing a `device_map`.\u001b[39m\u001b[38;5;124m\"\u001b[39m\n\u001b[1;32m   4201\u001b[0m         )\n\u001b[1;32m   4202\u001b[0m     \u001b[38;5;28;01melif\u001b[39;00m \u001b[38;5;129;01mnot\u001b[39;00m is_accelerate_available():\n\u001b[0;32m-> 4203\u001b[0m         \u001b[38;5;28;01mraise\u001b[39;00m \u001b[38;5;167;01mImportError\u001b[39;00m(\n\u001b[1;32m   4204\u001b[0m             \u001b[38;5;124mf\u001b[39m\u001b[38;5;124m\"\u001b[39m\u001b[38;5;124mUsing `low_cpu_mem_usage=True`, a `device_map` or a `tp_plan` requires Accelerate: `pip install \u001b[39m\u001b[38;5;124m'\u001b[39m\u001b[38;5;124maccelerate>=\u001b[39m\u001b[38;5;132;01m{\u001b[39;00mACCELERATE_MIN_VERSION\u001b[38;5;132;01m}\u001b[39;00m\u001b[38;5;124m'\u001b[39m\u001b[38;5;124m`\u001b[39m\u001b[38;5;124m\"\u001b[39m\n\u001b[1;32m   4205\u001b[0m         )\n\u001b[1;32m   4207\u001b[0m \u001b[38;5;66;03m# handling bnb config from kwargs, remove after `load_in_{4/8}bit` deprecation.\u001b[39;00m\n\u001b[1;32m   4208\u001b[0m \u001b[38;5;28;01mif\u001b[39;00m load_in_4bit \u001b[38;5;129;01mor\u001b[39;00m load_in_8bit:\n",
      "\u001b[0;31mImportError\u001b[0m: Using `low_cpu_mem_usage=True`, a `device_map` or a `tp_plan` requires Accelerate: `pip install 'accelerate>=0.26.0'`"
     ]
    }
   ],
   "source": [
    "import torch\n",
    "from transformers import AutoModelForCausalLM, AutoTokenizer, BitsAndBytesConfig\n",
    "from vllm import LLM, SamplingParams\n",
    "\n",
    "from huggingface_hub import login\n",
    "login(token=\"REMOVED\")\n",
    "\n",
    "model_name = \"mistralai/Mixtral-8x7B-Instruct-v0.1\"\n",
    "\n",
    "# ✅ Enable RoPE Scaling for 64K context\n",
    "ROPE_SCALING_FACTOR = 2  # Scales from 32K → 64K\n",
    "\n",
    "# ✅ Quantization: Load in 8-bit to save VRAM\n",
    "quant_config = BitsAndBytesConfig(load_in_8bit=True)\n",
    "\n",
    "# ✅ Define CPU Offloading for Lower Layers\n",
    "device_map = {\n",
    "    \"transformer.wte\": \"cpu\",    # Move embeddings to CPU\n",
    "    \"transformer.h.0\": \"cpu\",    # Move first few layers to CPU\n",
    "    \"transformer.h.1\": \"cpu\",\n",
    "    \"transformer.h.2\": \"cuda\",   # Keep higher layers in GPU\n",
    "    \"transformer.h.3\": \"cuda\",\n",
    "    \"transformer.ln_f\": \"cuda\"   # Keep final normalization on GPU\n",
    "}\n",
    "\n",
    "# ✅ Load Model with Paged Attention (vLLM)\n",
    "model = AutoModelForCausalLM.from_pretrained(\n",
    "    \"mistralai/Mixtral-8x7B-Instruct-v0.1\",\n",
    "    quantization_config=quant_config,\n",
    "    attn_implementation=\"flash_attention_2\",  # Enable Flash Attention\n",
    "    rope_scaling={\"type\": \"dynamic\", \"factor\": ROPE_SCALING_FACTOR},  # Scale RoPE to 64K\n",
    "    device_map=device_map\n",
    ")\n",
    "\n",
    "# ✅ Load Tokenizer\n",
    "tokenizer = AutoTokenizer.from_pretrained(\"mistralai/Mixtral-8x7B-Instruct-v0.1\")\n"
   ]
  },
  {
   "cell_type": "code",
   "execution_count": null,
   "metadata": {},
   "outputs": [],
   "source": []
  },
  {
   "cell_type": "code",
   "execution_count": 5,
   "metadata": {},
   "outputs": [
    {
     "name": "stdout",
     "output_type": "stream",
     "text": [
      "0.8.1\n"
     ]
    }
   ],
   "source": [
    "import vllm\n",
    "print(vllm.__version__)"
   ]
  },
  {
   "cell_type": "code",
   "execution_count": 7,
   "metadata": {},
   "outputs": [
    {
     "name": "stdout",
     "output_type": "stream",
     "text": [
      "2.6.0+cu124\n",
      "True\n"
     ]
    }
   ],
   "source": [
    "import torch\n",
    "print(torch.__version__)\n",
    "print(torch.cuda.is_available())\n"
   ]
  }
 ],
 "metadata": {
  "kernelspec": {
   "display_name": "vllm_env",
   "language": "python",
   "name": "python3"
  },
  "language_info": {
   "codemirror_mode": {
    "name": "ipython",
    "version": 3
   },
   "file_extension": ".py",
   "mimetype": "text/x-python",
   "name": "python",
   "nbconvert_exporter": "python",
   "pygments_lexer": "ipython3",
   "version": "3.10.16"
  }
 },
 "nbformat": 4,
 "nbformat_minor": 2
}
